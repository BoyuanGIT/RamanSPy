{
  "cells": [
    {
      "cell_type": "markdown",
      "metadata": {},
      "source": [
        "\n# Custom methods\n\nUsers can use `RamanSPy` to also define their own preprocessing methods, which can then be directly integrated into\nthe preprocessing core of `RamanSPy`. This can be done by wrapping custom preprocessing methods into :class:`ramanspy.preprocessing.PreprocessingStep` instances.\n\nBelow, we will use `RamanSPy` to define and apply a custom preprocessing method to the volumetric `Volumetric cell data` provided in `RamanSPy`.\n"
      ]
    },
    {
      "cell_type": "code",
      "execution_count": null,
      "metadata": {
        "collapsed": false
      },
      "outputs": [],
      "source": [
        "import ramanspy\n\ndir_ = r'../../../../data/kallepitis_data'\n\nvolumes = ramanspy.datasets.volumetric_cells(cell_type='THP-1', folder=dir_)"
      ]
    },
    {
      "cell_type": "markdown",
      "metadata": {},
      "source": [
        "We will use the first volume\n\n"
      ]
    },
    {
      "cell_type": "code",
      "execution_count": null,
      "metadata": {
        "collapsed": false
      },
      "outputs": [],
      "source": [
        "cell_volume = volumes[0]\n\n# selecting a random spectrum for visualisation purposes\nrandom_spectrum = cell_volume[25, 25, 5]\nrandom_spectrum.plot(title='Original Raman spectra')"
      ]
    },
    {
      "cell_type": "markdown",
      "metadata": {},
      "source": [
        "To do so, users can define their own preprocessing methods, which must be of the form given below and return the updated intensity_data and spectral_axis.\n\n"
      ]
    },
    {
      "cell_type": "code",
      "execution_count": null,
      "metadata": {
        "collapsed": false
      },
      "outputs": [],
      "source": [
        "def func(intensity_data, spectral_axis, **kwargs):\n    # Preprocess intensity_data and spectral axis\n    updated_intensity_data = ...\n    updated_spectral_axis = ...\n\n    return updated_intensity_data, updated_spectral_axis"
      ]
    },
    {
      "cell_type": "markdown",
      "metadata": {},
      "source": [
        "For instance, we can define a simple example function, which simply subtracts a given offset from each value in the\nintensity_data array as follows:\n\n"
      ]
    },
    {
      "cell_type": "code",
      "execution_count": null,
      "metadata": {
        "collapsed": false
      },
      "outputs": [],
      "source": [
        "def offset_func(intensity_data, spectral_axis, *, offset):\n    return intensity_data - offset, spectral_axis"
      ]
    },
    {
      "cell_type": "markdown",
      "metadata": {},
      "source": [
        "Then, one must simply wrap the function of interest using the :class:`ramanspy.preprocessing.PreprocessingStep` class.\nThat is done by creating a :class:`ramanspy.preprocessing.PreprocessingStep` object by invoking its\n:meth:`ramanspy.preprocessing.PreprocessingStep.__init__` method on the function one wants to wrap and the *args, **kwargs needed.\n\n"
      ]
    },
    {
      "cell_type": "code",
      "execution_count": null,
      "metadata": {
        "collapsed": false
      },
      "outputs": [],
      "source": [
        "offsetter = ramanspy.preprocessing.PreprocessingStep(offset_func, offset=500)"
      ]
    },
    {
      "cell_type": "markdown",
      "metadata": {},
      "source": [
        "Having done that, the :class:`ramanspy.preprocessing.PreprocessingStep` object can now be used as any of `RamanSPy's`\npreprocessing methods through its :meth:`ramanspy.preprocessing.PreprocessingStep.apply` method.\n\n"
      ]
    },
    {
      "cell_type": "code",
      "execution_count": null,
      "metadata": {
        "collapsed": false
      },
      "outputs": [],
      "source": [
        "preprocessed_random_spectrum = offsetter.apply(random_spectrum)\npreprocessed_random_spectrum.plot()"
      ]
    },
    {
      "cell_type": "markdown",
      "metadata": {},
      "source": [
        "The custom method can also be directly integrated into pipelines as follows:\n\n"
      ]
    },
    {
      "cell_type": "code",
      "execution_count": null,
      "metadata": {
        "collapsed": false
      },
      "outputs": [],
      "source": [
        "preprocessing_pipeline = ramanspy.preprocessing.Pipeline([\n    ramanspy.preprocessing.despike.WhitakerHayes(),\n    ramanspy.preprocessing.denoise.SavGol(window_length=7, polyorder=3),\n    offsetter\n])\npreprocessed_random_spectrum = preprocessing_pipeline.apply(random_spectrum)"
      ]
    },
    {
      "cell_type": "markdown",
      "metadata": {},
      "source": [
        "Visualising the preprocessed spectrum.\n\n"
      ]
    },
    {
      "cell_type": "code",
      "execution_count": null,
      "metadata": {
        "collapsed": false
      },
      "outputs": [],
      "source": [
        "preprocessed_random_spectrum.plot(title='Preprocessed Raman spectra')"
      ]
    },
    {
      "cell_type": "markdown",
      "metadata": {},
      "source": [
        "<div class=\"alert alert-info\"><h4>Note</h4><p>Custom preprocessing methods defined with `RamanSPy` work equally well on the other spectral data containers, as well as on collection of those.</p></div>\n\n"
      ]
    }
  ],
  "metadata": {
    "kernelspec": {
      "display_name": "Python 3",
      "language": "python",
      "name": "python3"
    },
    "language_info": {
      "codemirror_mode": {
        "name": "ipython",
        "version": 3
      },
      "file_extension": ".py",
      "mimetype": "text/x-python",
      "name": "python",
      "nbconvert_exporter": "python",
      "pygments_lexer": "ipython3",
      "version": "3.11.4"
    }
  },
  "nbformat": 4,
  "nbformat_minor": 0
}