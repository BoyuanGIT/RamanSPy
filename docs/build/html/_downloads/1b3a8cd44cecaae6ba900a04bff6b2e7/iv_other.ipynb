{
  "cells": [
    {
      "cell_type": "markdown",
      "metadata": {},
      "source": [
        "\n# Loading other data\n\nUsers can use `RamanSPy` to load other data files, too. To do so, one simply has to parse the file they are interested in\nto the correct spectral data container. Then, it can be directly integrated into the rest of the package.\n"
      ]
    },
    {
      "cell_type": "code",
      "execution_count": null,
      "metadata": {
        "collapsed": false
      },
      "outputs": [],
      "source": [
        "import ramanspy"
      ]
    },
    {
      "cell_type": "markdown",
      "metadata": {},
      "source": [
        "For instance, if we are interested in loading single spectra from two-column .csv files containing the Raman\nwavenumber axis (in a column called \"Wavenumber\") and the corresponding intensity values (in a column called \"Intensity\")\nrespectively. Then, we can define a function, which parses such files as follows:\n\n"
      ]
    },
    {
      "cell_type": "code",
      "execution_count": null,
      "metadata": {
        "collapsed": false
      },
      "outputs": [],
      "source": [
        "import pandas as pd\n\ndef parsing_csv(csv_filename):\n    data = pd.read_csv(csv_filename)\n\n    # parse and load data into spectral objects\n    spectral_data = data[\"Wavenumber\"]\n    spectral_axis = data[\"Intensity\"]\n\n    raman_spectrum = ramanspy.Spectrum(spectral_data, spectral_axis)\n\n    return raman_spectrum"
      ]
    },
    {
      "cell_type": "markdown",
      "metadata": {},
      "source": [
        "Then, we can use the package to load data from such files into `RamanSPy` and use the package to analyse the data.\n\n"
      ]
    },
    {
      "cell_type": "code",
      "execution_count": null,
      "metadata": {
        "collapsed": false
      },
      "outputs": [],
      "source": [
        "raman_spectrum = parsing_csv(\"path/to/file/spectrum.csv\")"
      ]
    }
  ],
  "metadata": {
    "kernelspec": {
      "display_name": "Python 3",
      "language": "python",
      "name": "python3"
    },
    "language_info": {
      "codemirror_mode": {
        "name": "ipython",
        "version": 3
      },
      "file_extension": ".py",
      "mimetype": "text/x-python",
      "name": "python",
      "nbconvert_exporter": "python",
      "pygments_lexer": "ipython3",
      "version": "3.11.4"
    }
  },
  "nbformat": 4,
  "nbformat_minor": 0
}