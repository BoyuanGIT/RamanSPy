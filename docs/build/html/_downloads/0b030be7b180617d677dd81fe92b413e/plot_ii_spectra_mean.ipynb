{
  "cells": [
    {
      "cell_type": "markdown",
      "metadata": {},
      "source": [
        "\n# Visualising spectral distributions\n\nSometimes, we have plenty of spectra we wish to visualise. To appropriately do that, it is more appropriate to visualise\nsummary statistics of the (groups of) spectra we want to investigate, such as the mean of the corresponding\ncollection of spectra and/or describe its spectral distribution. This is why `RamanSPy` offers a wide variety\nof visualisation tools for plotting distributions of Raman spectra, which can be accessed via the :meth:`ramanspy.plot.mean_spectra` method.\n\n<div class=\"alert alert-info\"><h4>Note</h4><p>The behaviour of the :meth:`ramanspy.plot.mean_spectra` method closely follows that of the :meth:`ramanspy.plot.spectra`</p></div>\nmethod. Hence, readers are advised to first check its documentation, as well as the `Visualising spectra` tutorial.\n"
      ]
    },
    {
      "cell_type": "markdown",
      "metadata": {},
      "source": [
        "To show that, we will this time use the training dataset of the `Bacteria data` provided within `RamanSPy`.\nFor this tutorial, we will only use the data for the first 10 bacteria species and use only 10 spectra per species.\n\n"
      ]
    },
    {
      "cell_type": "code",
      "execution_count": null,
      "metadata": {
        "collapsed": false
      },
      "outputs": [],
      "source": [
        "import ramanspy\n\ndir_ = r\"../../../../data/bacteria_data\"\nX_train, y_train = ramanspy.datasets.bacteria(\"train\", folder=dir_)"
      ]
    },
    {
      "cell_type": "code",
      "execution_count": null,
      "metadata": {
        "collapsed": false
      },
      "outputs": [],
      "source": [
        "bacteria_lists = [[X_train[i:i+10, :]] for i in range(0, X_train.shape[0], 2000)]\n\nbacteria_sample = bacteria_lists[:10]\nbacteria_sample_labels = [f\"Species {int(y_train[i*2000])}\" for i in range(0, 10)]"
      ]
    },
    {
      "cell_type": "markdown",
      "metadata": {},
      "source": [
        "## Single plots\nAs with single spectra, we can also visualise a single group of spectra as a distribution.\n\n"
      ]
    },
    {
      "cell_type": "markdown",
      "metadata": {},
      "source": [
        "Even for a small number of spectra (e.g. 3-5), it becomes hard to visualise them in a single plot. So, instead, we\ncan use `RamanSPy` to only highlight the mean of a group and a confidence interval around it (a 95% CI based on normal distribution).\nThis can be done by setting the ``dist`` parameter of the :meth:`ramanspy.plot.mean_spectra` method to ``True`` (default behaviour).\n\n"
      ]
    },
    {
      "cell_type": "code",
      "execution_count": null,
      "metadata": {
        "collapsed": false
      },
      "outputs": [],
      "source": [
        "ramanspy.plot.mean_spectra(bacteria_sample[0], plot_type='single')"
      ]
    },
    {
      "cell_type": "markdown",
      "metadata": {},
      "source": [
        "To plot more groups in a single plot, just provide the group list as follows:\n\n"
      ]
    },
    {
      "cell_type": "code",
      "execution_count": null,
      "metadata": {
        "collapsed": false
      },
      "outputs": [],
      "source": [
        "ramanspy.plot.mean_spectra(bacteria_sample, plot_type='single')"
      ]
    },
    {
      "cell_type": "markdown",
      "metadata": {},
      "source": [
        "If we prefer, we can plot the individual spectra within the group instead of the CI by setting the ``dist`` to ``False``.\n\nNote that this method is not preferred when we have a large number of spectra within the group(s) we are interested in.\n\n"
      ]
    },
    {
      "cell_type": "code",
      "execution_count": null,
      "metadata": {
        "collapsed": false
      },
      "outputs": [],
      "source": [
        "ramanspy.plot.mean_spectra(bacteria_sample[0], plot_type='single', dist=False)"
      ]
    },
    {
      "cell_type": "markdown",
      "metadata": {},
      "source": [
        "## Separate plots\nTo improve the readability of the plot, we can also visualise distributions in separate plots:\n\n"
      ]
    },
    {
      "cell_type": "code",
      "execution_count": null,
      "metadata": {
        "collapsed": false
      },
      "outputs": [],
      "source": [
        "ramanspy.plot.mean_spectra(bacteria_sample[:3], plot_type='separate')"
      ]
    },
    {
      "cell_type": "markdown",
      "metadata": {},
      "source": [
        "## Stacked plots\nBut that is still not ideal if we want to compare the distributions. In such cases, it is more informative to use `stacked` plots.\n\n"
      ]
    },
    {
      "cell_type": "code",
      "execution_count": null,
      "metadata": {
        "collapsed": false
      },
      "outputs": [],
      "source": [
        "ramanspy.plot.mean_spectra(bacteria_sample, plot_type='stacked')"
      ]
    },
    {
      "cell_type": "markdown",
      "metadata": {},
      "source": [
        "## Single stacked plots\nOr `single stacked plots`.\n\n"
      ]
    },
    {
      "cell_type": "code",
      "execution_count": null,
      "metadata": {
        "collapsed": false
      },
      "outputs": [],
      "source": [
        "ramanspy.plot.mean_spectra(bacteria_sample, plot_type=\"single stacked\")"
      ]
    },
    {
      "cell_type": "markdown",
      "metadata": {},
      "source": [
        "We can also add more informative title, legend, axis labels, etc.\n\n"
      ]
    },
    {
      "cell_type": "code",
      "execution_count": null,
      "metadata": {
        "collapsed": false
      },
      "outputs": [],
      "source": [
        "ramanspy.plot.mean_spectra(bacteria_sample, plot_type=\"single stacked\", label=bacteria_sample_labels, title='Bacteria identification using Raman spectroscopy')"
      ]
    }
  ],
  "metadata": {
    "kernelspec": {
      "display_name": "Python 3",
      "language": "python",
      "name": "python3"
    },
    "language_info": {
      "codemirror_mode": {
        "name": "ipython",
        "version": 3
      },
      "file_extension": ".py",
      "mimetype": "text/x-python",
      "name": "python",
      "nbconvert_exporter": "python",
      "pygments_lexer": "ipython3",
      "version": "3.11.4"
    }
  },
  "nbformat": 4,
  "nbformat_minor": 0
}