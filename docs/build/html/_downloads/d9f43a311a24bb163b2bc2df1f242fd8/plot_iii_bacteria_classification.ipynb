{
  "cells": [
    {
      "cell_type": "markdown",
      "metadata": {},
      "source": [
        "\n# Bacteria classification\n\nIn this example, we will benchmark the performance of a variety of machine learning models on a dataset of Raman spectra of\n30 different bacteria species. The dataset is from [1]_.\n\n## Prerequisites\n"
      ]
    },
    {
      "cell_type": "code",
      "execution_count": null,
      "metadata": {
        "collapsed": false
      },
      "outputs": [],
      "source": [
        "from lazypredict.Supervised import LazyClassifier\nfrom sklearn.utils import shuffle\nfrom sklearn.metrics import accuracy_score, confusion_matrix\nimport matplotlib.pyplot as plt\nimport seaborn as sns\nimport numpy as np"
      ]
    },
    {
      "cell_type": "code",
      "execution_count": null,
      "metadata": {
        "collapsed": false
      },
      "outputs": [],
      "source": [
        "import ramanspy"
      ]
    },
    {
      "cell_type": "markdown",
      "metadata": {},
      "source": [
        "## Data loading\nLoad the fine-tuning/validation and testing datasets from the original paper, alongside the corresponding labels.\n\n"
      ]
    },
    {
      "cell_type": "code",
      "execution_count": null,
      "metadata": {
        "collapsed": false
      },
      "outputs": [],
      "source": [
        "dir_ = r\"../../../data/bacteria_data\"\n\nX_train, y_train = ramanspy.datasets.bacteria(\"val\", folder=dir_)\nX_test, y_test = ramanspy.datasets.bacteria(\"test\", folder=dir_)\n\ny_labels, antibiotics_labels = ramanspy.datasets.bacteria(\"labels\")"
      ]
    },
    {
      "cell_type": "markdown",
      "metadata": {},
      "source": [
        "Define the order in which to plot the species throughout the example. The same order as in the original paper.\n\n"
      ]
    },
    {
      "cell_type": "code",
      "execution_count": null,
      "metadata": {
        "collapsed": false
      },
      "outputs": [],
      "source": [
        "plotting_order = [16, 17, 14, 18, 15, 20, 21, 24, 23, 26, 27, 28, 29, 25, 6, 7, 5, 3, 4, 9, 10, 2, 8, 11, 22, 19, 12, 13, 0, 1]"
      ]
    },
    {
      "cell_type": "markdown",
      "metadata": {},
      "source": [
        "## Exploratory analysis\nGroup training data into species classes for plotting.\n\n"
      ]
    },
    {
      "cell_type": "code",
      "execution_count": null,
      "metadata": {
        "collapsed": false
      },
      "outputs": [],
      "source": [
        "spectra = [[X_train[y_train == species_id]] for species_id in list(np.unique(y_train))]"
      ]
    },
    {
      "cell_type": "markdown",
      "metadata": {},
      "source": [
        "Normalise the spectra using min-max normalisation.\n\n"
      ]
    },
    {
      "cell_type": "code",
      "execution_count": null,
      "metadata": {
        "collapsed": false
      },
      "outputs": [],
      "source": [
        "spectra_ = ramanspy.preprocessing.normalise.MinMax().apply(spectra)"
      ]
    },
    {
      "cell_type": "markdown",
      "metadata": {},
      "source": [
        "Define colormaps (for visualisation purposes).\n\n"
      ]
    },
    {
      "cell_type": "code",
      "execution_count": null,
      "metadata": {
        "collapsed": false
      },
      "outputs": [],
      "source": [
        "cmap = plt.cm.get_cmap()  # using matplotlib's default colormap\ncolors = list(cmap(np.linspace(0, 1, len(list(np.unique(antibiotics_labels))))))\n\n# defining the color map for the different antibiotic groups\nantibiotics_map_ = [antibiotics_labels[i] for i in plotting_order]\nantibiotic_color_map = {a: c for a, c in zip(list(np.unique(antibiotics_map_)), colors)}\nantibiotics_colors = [antibiotic_color_map[a] for a in antibiotics_map_]"
      ]
    },
    {
      "cell_type": "markdown",
      "metadata": {},
      "source": [
        "Plot the mean spectra of each species (data from finetuning dataset).\n\n"
      ]
    },
    {
      "cell_type": "code",
      "execution_count": null,
      "metadata": {
        "collapsed": false
      },
      "outputs": [],
      "source": [
        "plt.figure(figsize=(8, 9))\n_ = ramanspy.plot.mean_spectra([spectra_[i] for i in plotting_order], label=[y_labels[i] for i in plotting_order], plot_type=\"single stacked\", color=antibiotics_colors, title=None)"
      ]
    },
    {
      "cell_type": "markdown",
      "metadata": {},
      "source": [
        "## Benchmarking\nNext, we will benchmark a variety of machine learning models on task of predicting the bacteria species class each\nspectrum belongs to. We will train the models on the validation/fine-tuning dataset and test them on the testing dataset.\n\n"
      ]
    },
    {
      "cell_type": "markdown",
      "metadata": {},
      "source": [
        "To guide the training, it is important to shuffle the training dataset, which is originally ordered by bacteria species.\n\n"
      ]
    },
    {
      "cell_type": "code",
      "execution_count": null,
      "metadata": {
        "collapsed": false
      },
      "outputs": [],
      "source": [
        "X_train, y_train = shuffle(X_train.flat.spectral_data, y_train)"
      ]
    },
    {
      "cell_type": "markdown",
      "metadata": {},
      "source": [
        "We can use [the lazypredict Python package](https://lazypredict.readthedocs.io/en/latest/) to benchmark the performance of a variety of machine learning models.\n\n"
      ]
    },
    {
      "cell_type": "code",
      "execution_count": null,
      "metadata": {
        "collapsed": false
      },
      "outputs": [],
      "source": [
        "clf = LazyClassifier()\nmodels_test, predictions_test = clf.fit(X_train, X_test.spectral_data, y_train, y_test)"
      ]
    },
    {
      "cell_type": "markdown",
      "metadata": {},
      "source": [
        "Print the benchmarking results.\n\n"
      ]
    },
    {
      "cell_type": "code",
      "execution_count": null,
      "metadata": {
        "collapsed": false
      },
      "outputs": [],
      "source": [
        "models_test"
      ]
    },
    {
      "cell_type": "markdown",
      "metadata": {},
      "source": [
        "Plot the benchmarking results in a bar chart.\n\n"
      ]
    },
    {
      "cell_type": "code",
      "execution_count": null,
      "metadata": {
        "collapsed": false
      },
      "outputs": [],
      "source": [
        "sns.set_theme(style='whitegrid')\nplt.figure(figsize=(5, 10))\nmodels_test['Accuracy (%)'] = models_test['Accuracy']*100\nax = sns.barplot(y=models_test.index, x='Accuracy (%)', data=models_test)\nfor i in ax.containers:\n    ax.bar_label(i, fmt='%.2f')"
      ]
    },
    {
      "cell_type": "markdown",
      "metadata": {},
      "source": [
        "Get the best performing model.\n\n"
      ]
    },
    {
      "cell_type": "code",
      "execution_count": null,
      "metadata": {
        "collapsed": false
      },
      "outputs": [],
      "source": [
        "best_model = models_test.index[0]\nprint(f\"The best performing model is: {best_model}\")"
      ]
    },
    {
      "cell_type": "markdown",
      "metadata": {},
      "source": [
        "## Logistic regression modelling\nAs the benchmarking results show, the Logistic Regression model performs the best. We thus select this model for the\nconsecutive analyses where we analyse the model's performance in more detail for the task of predicting the bacteria\nspecies class each spectrum belongs to, as well as the task of predicting the antibiotic class each spectrum belongs to.\n\n"
      ]
    },
    {
      "cell_type": "code",
      "execution_count": null,
      "metadata": {
        "collapsed": false
      },
      "outputs": [],
      "source": [
        "from sklearn.linear_model import LogisticRegression\n\n# Then, we can simply use `scikit-learn's` implementation of logistic regression.\nmodel = LogisticRegression()"
      ]
    },
    {
      "cell_type": "markdown",
      "metadata": {},
      "source": [
        "Normalise the data\n\n"
      ]
    },
    {
      "cell_type": "code",
      "execution_count": null,
      "metadata": {
        "collapsed": false
      },
      "outputs": [],
      "source": [
        "from sklearn.preprocessing import StandardScaler\n\nscaler = StandardScaler()\nX_train = scaler.fit_transform(X_train)\nX_test = scaler.transform(X_test.flat.spectral_data)"
      ]
    },
    {
      "cell_type": "markdown",
      "metadata": {},
      "source": [
        "Training the logistic regression model on the training dataset.\n\n"
      ]
    },
    {
      "cell_type": "code",
      "execution_count": null,
      "metadata": {
        "collapsed": false
      },
      "outputs": [],
      "source": [
        "_ = model.fit(X_train, y_train)"
      ]
    },
    {
      "cell_type": "markdown",
      "metadata": {},
      "source": [
        "### Species-level classification\n\n"
      ]
    },
    {
      "cell_type": "markdown",
      "metadata": {},
      "source": [
        "Testing the trained model on the unseen testing dataset.\n\n"
      ]
    },
    {
      "cell_type": "code",
      "execution_count": null,
      "metadata": {
        "collapsed": false
      },
      "outputs": [],
      "source": [
        "y_pred = model.predict(X_test)\nprint(f\"The accuracy of the Logistic Regression model is: {accuracy_score(y_pred, y_test)}\")"
      ]
    },
    {
      "cell_type": "markdown",
      "metadata": {},
      "source": [
        "Plot the confusion matrix.\n\n"
      ]
    },
    {
      "cell_type": "code",
      "execution_count": null,
      "metadata": {
        "collapsed": false
      },
      "outputs": [],
      "source": [
        "sns.set_context(\"talk\")\n\nlabel_order = [y_labels[i] for i in plotting_order]\ncm = confusion_matrix(y_test, y_pred, labels=plotting_order)\ncm = 100 * cm / cm.sum(axis=1)[:, np.newaxis]\n\nplt.figure(figsize=(20, 18))\nax = sns.heatmap(cm, annot=True, cmap='YlGnBu', fmt='0.0f',\n                 xticklabels=label_order, yticklabels=label_order, cbar=False)\nax.xaxis.tick_top()\n\n# color the antibiotic groups differently\nfor i, tick_label in enumerate(ax.get_yticklabels()):\n    tick_label.set_color(antibiotics_colors[i])\n\nfor i, tick_label in enumerate(ax.get_xticklabels()):\n    tick_label.set_color(antibiotics_colors[i])\n\n# add lines separating the antibiotic groups\nlinewidth = 1.5\ncolor = 'gray'\nlinestyle = '--'\nalpha = 0.25\n\nax.axvline(7, 0, 2, linewidth=linewidth, c=color, linestyle=linestyle, alpha=alpha)\nax.axvline(9, 0, 2, linewidth=linewidth, c=color, linestyle=linestyle, alpha=alpha)\nax.axvline(16, 0, 2, linewidth=linewidth, c=color, linestyle=linestyle, alpha=alpha)\nax.axvline(17, 0, 2, linewidth=linewidth, c=color, linestyle=linestyle, alpha=alpha)\nax.axvline(25, 0, 2, linewidth=linewidth, c=color, linestyle=linestyle, alpha=alpha)\nax.axvline(26, 0, 2, linewidth=linewidth, c=color, linestyle=linestyle, alpha=alpha)\nax.axvline(28, 0, 2, linewidth=linewidth, c=color, linestyle=linestyle, alpha=alpha)\n\nax.axhline(7, 0, 2, linewidth=linewidth, c=color, linestyle=linestyle, alpha=alpha)\nax.axhline(9, 0, 2, linewidth=linewidth, c=color, linestyle=linestyle, alpha=alpha)\nax.axhline(16, 0, 2, linewidth=linewidth, c=color, linestyle=linestyle, alpha=alpha)\nax.axhline(17, 0, 2, linewidth=linewidth, c=color, linestyle=linestyle, alpha=alpha)\nax.axhline(25, 0, 2, linewidth=linewidth, c=color, linestyle=linestyle, alpha=alpha)\nax.axhline(26, 0, 2, linewidth=linewidth, c=color, linestyle=linestyle, alpha=alpha)\nax.axhline(28, 0, 2, linewidth=linewidth, c=color, linestyle=linestyle, alpha=alpha)\n\nplt.xticks(rotation=90)\n\nplt.show()"
      ]
    },
    {
      "cell_type": "markdown",
      "metadata": {},
      "source": [
        "### Antibiotic-level classification\n\n"
      ]
    },
    {
      "cell_type": "markdown",
      "metadata": {},
      "source": [
        "Calculate the antibiotic-level accuracy.\n\n"
      ]
    },
    {
      "cell_type": "code",
      "execution_count": null,
      "metadata": {
        "collapsed": false
      },
      "outputs": [],
      "source": [
        "y_ab = np.asarray([antibiotics_labels[i] for i in y_test])\ny_ab_hat = np.asarray([antibiotics_labels[i] for i in y_pred])\n\nprint(f\"The accuracy of the Logistic Regression model is: {accuracy_score(y_ab, y_ab_hat)}\")"
      ]
    },
    {
      "cell_type": "markdown",
      "metadata": {},
      "source": [
        "Plot the confusion matrix.\n\n"
      ]
    },
    {
      "cell_type": "code",
      "execution_count": null,
      "metadata": {
        "collapsed": false
      },
      "outputs": [],
      "source": [
        "label_order = ['Vancomycin', 'Ceftriaxone', 'Penicillin', 'Daptomycin', 'Meropenem', 'Ciprofloxacin', 'TZP', 'Caspofungin']\n\ncm = confusion_matrix(y_ab, y_ab_hat, labels=label_order)\n\nplt.figure(figsize=(16, 14))\ncm = 100 * cm / cm.sum(axis=1)[:,np.newaxis]\nax = sns.heatmap(cm, annot=True, cmap='YlGnBu', fmt='0.0f',\n                 xticklabels=label_order, yticklabels=label_order, cbar=False)\nax.xaxis.tick_top()\n\nfor tick_label in ax.get_yticklabels():\n    tick_label.set_color(antibiotic_color_map[tick_label.get_text()])\n\nfor tick_label in ax.get_xticklabels():\n    tick_label.set_color(antibiotic_color_map[tick_label.get_text()])\n\nplt.xticks(rotation=90)\nplt.show()"
      ]
    },
    {
      "cell_type": "markdown",
      "metadata": {},
      "source": [
        "## References\n.. [1] Ho, CS., Jean, N., Hogan, C.A. et al. Rapid identification of pathogenic bacteria using Raman spectroscopy and deep learning. Nat Commun 10, 4927 (2019).\n\n"
      ]
    }
  ],
  "metadata": {
    "kernelspec": {
      "display_name": "Python 3",
      "language": "python",
      "name": "python3"
    },
    "language_info": {
      "codemirror_mode": {
        "name": "ipython",
        "version": 3
      },
      "file_extension": ".py",
      "mimetype": "text/x-python",
      "name": "python",
      "nbconvert_exporter": "python",
      "pygments_lexer": "ipython3",
      "version": "3.11.4"
    }
  },
  "nbformat": 4,
  "nbformat_minor": 0
}