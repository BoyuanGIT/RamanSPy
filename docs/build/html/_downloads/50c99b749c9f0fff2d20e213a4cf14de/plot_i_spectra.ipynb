{
  "cells": [
    {
      "cell_type": "markdown",
      "metadata": {},
      "source": [
        "\n# Visualising spectra\n\n`RamanSPy` provides a broad selection of visualisation tools for the visualisation of Raman spectra and groups of Raman spectra.\n\nThis is enabled through the :meth:`ramanspy.plot.spectra` method, which can automatically produce informative,\nhighly-customisable visualisations with minimal software readjustments.\n\n<div class=\"alert alert-info\"><h4>Note</h4><p>The :meth:`ramanspy.plot.spectra` method is ideal for the visualisation of a small number of spectra. If you need\n          to plot more data, you may need to use the :meth:`ramanspy.plot.mean_spectra` method instead, which allows the\n          visualisation of spectral distributions.</p></div>\n"
      ]
    },
    {
      "cell_type": "markdown",
      "metadata": {},
      "source": [
        "To showcase the wide variety of plots of spectra that can be produced with `RamanSPy`, we will use a small sample from the\ntraining dataset of the `Bacteria data` available in `RamanSPy`.\n\nFor the scope of this example, we will only select 3 Raman spectra from 5 of the species provided.\n\n"
      ]
    },
    {
      "cell_type": "code",
      "execution_count": null,
      "metadata": {
        "collapsed": false
      },
      "outputs": [],
      "source": [
        "import ramanspy\n\ndir_ = r\"../../../../data/bacteria_data\"\nX_train, y_train = ramanspy.datasets.bacteria(\"train\", folder=dir_)"
      ]
    },
    {
      "cell_type": "code",
      "execution_count": null,
      "metadata": {
        "collapsed": false
      },
      "outputs": [],
      "source": [
        "species_size = 2000\n\n# defining the samples, 3 Raman spectra per species\nspecies_1_sample = [X_train[0, :], X_train[1, :], X_train[2, :]]\nspecies_2_sample = [X_train[1*species_size + 0, :], X_train[1*species_size + 1, :], X_train[1*species_size + 2, :]]\nspecies_3_sample = [X_train[2*species_size + 0, :], X_train[2*species_size + 1, :], X_train[2*species_size + 2, :]]\nspecies_4_sample = [X_train[3*species_size + 0, :], X_train[3*species_size + 1, :], X_train[3*species_size + 2, :]]\nspecies_5_sample = [X_train[4*species_size + 0, :], X_train[4*species_size + 1, :], X_train[4*species_size + 2, :]]"
      ]
    },
    {
      "cell_type": "markdown",
      "metadata": {},
      "source": [
        "Then, we can use `RamanSPy` to  visualise spectra in 4 different types of plots.\n\n"
      ]
    },
    {
      "cell_type": "markdown",
      "metadata": {},
      "source": [
        "## Separate plots\nThe first type of plots supported by the :meth:`ramanspy.plot.spectra` method is where the spectra of each group is\nplotted in a separate plot.\n\nThis can be achieved by using ``plot_type=\"separate\"`` when calling the method (default behaviour).\n\n"
      ]
    },
    {
      "cell_type": "code",
      "execution_count": null,
      "metadata": {
        "collapsed": false
      },
      "outputs": [],
      "source": [
        "# a single spectrum => treated as a single group containing 1 spectrum\nramanspy.plot.spectra(species_1_sample[0], label=[\"Replicate 1\"], title='Bacteria species 1')"
      ]
    },
    {
      "cell_type": "code",
      "execution_count": null,
      "metadata": {
        "collapsed": false
      },
      "outputs": [],
      "source": [
        "# a list of 3 spectra => treated as 3 separate groups, each containing a single spectrum\nramanspy.plot.spectra(species_1_sample, label=[\"Replicate 1\", \"Replicate 2\", \"Replicate 3\"], title='Bacteria species 1')"
      ]
    },
    {
      "cell_type": "code",
      "execution_count": null,
      "metadata": {
        "collapsed": false
      },
      "outputs": [],
      "source": [
        "# a list of 5 lists => treated as 5 separate groups, each containing the number of spectra in each sub-list, i.e. 3\nramanspy.plot.spectra([species_1_sample, species_2_sample, species_3_sample, species_4_sample, species_5_sample],\n                      label=[\"Species 1\", \"Species 2\", \"Species 3\", \"Species 4\", \"Species 5\"], title='Bacteria species')"
      ]
    },
    {
      "cell_type": "markdown",
      "metadata": {},
      "source": [
        "## Single plots\nIf we want to compare the groups of spectra provided, we may wish to visualise them within the same plot.\n\nThis can be achieved by setting ``plot_type=\"single\"``.\n\n"
      ]
    },
    {
      "cell_type": "code",
      "execution_count": null,
      "metadata": {
        "collapsed": false
      },
      "outputs": [],
      "source": [
        "# a list of 3 spectra => treated as 3 separate groups, each containing a single spectrum\nramanspy.plot.spectra(species_1_sample, label=[\"Replicate 1\", \"Replicate 2\", \"Replicate 3\"], title='Bacteria species 1',\n                      plot_type=\"single\"\n                      )"
      ]
    },
    {
      "cell_type": "code",
      "execution_count": null,
      "metadata": {
        "collapsed": false
      },
      "outputs": [],
      "source": [
        "# a list of 5 lists => treated as 5 separate groups, each containing the number of spectra in each sub-list, i.e. 3\nramanspy.plot.spectra([species_1_sample, species_2_sample, species_3_sample, species_4_sample, species_5_sample],\n                      label=[\"Species 1\", \"Species 2\", \"Species 3\", \"Species 4\", \"Species 5\"], title='Bacteria species',\n                      plot_type=\"single\")"
      ]
    },
    {
      "cell_type": "markdown",
      "metadata": {},
      "source": [
        "## Stacked plots\nPlotting spectra in the same plot usually ends up in plots which are too jammed. To make plots more compact and readable,\nusers can stack individual plots on top of each other. In this way, it becomes easier to compare different graphs and\ninspect their behaviour.\n\nOne can do that by setting ``plot type='stacked'``.\n\n"
      ]
    },
    {
      "cell_type": "code",
      "execution_count": null,
      "metadata": {
        "collapsed": false
      },
      "outputs": [],
      "source": [
        "# a list of 3 spectra => treated as 3 separate groups, each containing a single spectrum\nramanspy.plot.spectra(species_1_sample, label=[\"Replicate 1\", \"Replicate 2\", \"Replicate 3\"], title='Bacteria species 1',\n                      plot_type=\"stacked\")"
      ]
    },
    {
      "cell_type": "code",
      "execution_count": null,
      "metadata": {
        "collapsed": false
      },
      "outputs": [],
      "source": [
        "# a list of 5 SpectralContainer instances => treated as 5 separate groups, each containing the number of spectra in each instance, i.e. 3\nramanspy.plot.spectra([species_1_sample, species_2_sample, species_3_sample, species_4_sample, species_5_sample],\n                      label=[\"Species 1\", \"Species 2\", \"Species 3\", \"Species 4\", \"Species 5\"], title='Bacteria species',\n                      plot_type=\"stacked\")"
      ]
    },
    {
      "cell_type": "markdown",
      "metadata": {},
      "source": [
        "## Single stacked plots\nWe can also visualise the stacked plots within the same plot by setting ``plot_type='single stacked'``.\n\n"
      ]
    },
    {
      "cell_type": "code",
      "execution_count": null,
      "metadata": {
        "collapsed": false
      },
      "outputs": [],
      "source": [
        "# a list of 3 spectra => treated as 3 separate groups, each containing a single spectrum\nramanspy.plot.spectra(species_1_sample, label=[\"Replicate 1\", \"Replicate 2\", \"Replicate 3\"], title='Bacteria species 1',\n                      plot_type=\"single stacked\")"
      ]
    },
    {
      "cell_type": "code",
      "execution_count": null,
      "metadata": {
        "collapsed": false
      },
      "outputs": [],
      "source": [
        "# a list of 5 SpectralContainer instances => treated as 5 separate groups, each containing the number of spectra in each instance, i.e. 3\nramanspy.plot.spectra([species_1_sample, species_2_sample, species_3_sample, species_4_sample, species_5_sample],\n                      label=[\"Species 1\", \"Species 2\", \"Species 3\", \"Species 4\", \"Species 5\"], title='Bacteria species',\n                      plot_type=\"single stacked\")"
      ]
    }
  ],
  "metadata": {
    "kernelspec": {
      "display_name": "Python 3",
      "language": "python",
      "name": "python3"
    },
    "language_info": {
      "codemirror_mode": {
        "name": "ipython",
        "version": 3
      },
      "file_extension": ".py",
      "mimetype": "text/x-python",
      "name": "python",
      "nbconvert_exporter": "python",
      "pygments_lexer": "ipython3",
      "version": "3.11.4"
    }
  },
  "nbformat": 4,
  "nbformat_minor": 0
}