{
  "cells": [
    {
      "cell_type": "markdown",
      "metadata": {},
      "source": [
        "\n# Storing generic data\n\nThe backbone of `RamanSPy's` data management core is the :class:`ramanspy.SpectralContainer` class. It serves as a generic data container\nwhich defines the main Raman spectroscopic data-related features and functionalities.\n\nThe data stored within a :class:`ramanspy.SpectralContainer` instance can be of any dimension, but if you are dealing with single\nspectra, imaging and volumetric Raman data, users are advised to use the more specialised :class:`ramanspy.Spectrum`,\n:class:`ramanspy.SpectralImage` and :class:`ramanspy.SpectralVolume` classes, which extend the :class:`ramanspy.SpectralContainer` class\nand thus inherit all features presented below.\n\nBelow, we will see how to define a spectral container, as well as how to use its main features.\n\n.. seealso:: For more information about the :class:`ramanspy.Spectrum`, :class:`ramanspy.SpectralImage` and :class:`ramanspy.SpectralVolume`\n             classes, check their documentation and/or the `Storing spectra`, `Storing imaging data` and `Storing volumetric data` tutorials respectively.\n"
      ]
    },
    {
      "cell_type": "code",
      "execution_count": null,
      "metadata": {
        "collapsed": false
      },
      "outputs": [],
      "source": [
        "import numpy as np\nimport ramanspy"
      ]
    },
    {
      "cell_type": "markdown",
      "metadata": {},
      "source": [
        "## Initialisation\nWe can define :class:`ramanspy.SpectralContainer` containers of different dimensions by passing the corresponding intensity data\nand Raman wavenumber axis. For instance,\n\n"
      ]
    },
    {
      "cell_type": "code",
      "execution_count": null,
      "metadata": {
        "collapsed": false
      },
      "outputs": [],
      "source": [
        "# an evenly spaced Raman wavenumber axis between 100 and 3000 cm^-1, consisting of 1500 elements.\nspectral_axis = np.linspace(100, 3600, 1500)\n\n# randomly generating intensity data array of shape (20, 1500)\nspectral_data = np.random.rand(20, 1500)\n\n# wrapping the data into a SpectralContainer instance\nraman_object = ramanspy.SpectralContainer(spectral_data, spectral_axis)"
      ]
    },
    {
      "cell_type": "markdown",
      "metadata": {},
      "source": [
        "This can be any other shape, e.g.:\n\n"
      ]
    },
    {
      "cell_type": "code",
      "execution_count": null,
      "metadata": {
        "collapsed": false
      },
      "outputs": [],
      "source": [
        "spectral_data = np.random.rand(1500)\nraman_spectrum = ramanspy.SpectralContainer(spectral_data, spectral_axis)\n\nspectral_data = np.random.rand(20, 20, 1500)\nraman_image = ramanspy.SpectralContainer(spectral_data, spectral_axis)\n\nspectral_data = np.random.rand(20, 20, 20, 1500)\nraman_volume = ramanspy.SpectralContainer(spectral_data, spectral_axis)\n\nspectral_data = np.random.rand(20, 20, 20, 20, 1500)\nraman_hypervolume = ramanspy.SpectralContainer(spectral_data, spectral_axis)"
      ]
    },
    {
      "cell_type": "markdown",
      "metadata": {},
      "source": [
        "If the spectral axis is in wavelength units (nm) and needs converting to wavenumber (cm :sup:`-1`), we can do that using\nthe `wavelength_to_wavenumber` method within `ramanspy.utils`.\n\n"
      ]
    },
    {
      "cell_type": "markdown",
      "metadata": {},
      "source": [
        "We can also create a 2D :class:`ramanspy.SpectralContainer` container by stacking a collection of :class:`ramanspy.Spectrum` instances.\n\n"
      ]
    },
    {
      "cell_type": "code",
      "execution_count": null,
      "metadata": {
        "collapsed": false
      },
      "outputs": [],
      "source": [
        "raman_spectra = [ramanspy.Spectrum(np.random.rand(1500), spectral_axis) for _ in range(5)]\nraman_spectra_list = ramanspy.SpectralContainer.from_stack(raman_spectra)\n\nraman_spectra_list.shape"
      ]
    },
    {
      "cell_type": "markdown",
      "metadata": {},
      "source": [
        "## Features\nSome of the main features and functionalities of the :class:`ramanspy.SpectralContainer` containers include:\n\n"
      ]
    },
    {
      "cell_type": "code",
      "execution_count": null,
      "metadata": {
        "collapsed": false
      },
      "outputs": [],
      "source": [
        "# access to its spectral axis\nraman_hypervolume.spectral_axis"
      ]
    },
    {
      "cell_type": "code",
      "execution_count": null,
      "metadata": {
        "collapsed": false
      },
      "outputs": [],
      "source": [
        "# access to the length of the spectral axis\nraman_hypervolume.spectral_length"
      ]
    },
    {
      "cell_type": "code",
      "execution_count": null,
      "metadata": {
        "collapsed": false
      },
      "outputs": [],
      "source": [
        "# access to the shape of the data encapsulated within the instance\nraman_hypervolume.spectral_data.shape"
      ]
    },
    {
      "cell_type": "code",
      "execution_count": null,
      "metadata": {
        "collapsed": false
      },
      "outputs": [],
      "source": [
        "# access to the non-spectral (i.e. spatial) shape of the data encapsulated within the instance\nraman_hypervolume.shape"
      ]
    },
    {
      "cell_type": "code",
      "execution_count": null,
      "metadata": {
        "collapsed": false
      },
      "outputs": [],
      "source": [
        "# access to spatially collapsed data\nraman_hypervolume.flat.shape"
      ]
    },
    {
      "cell_type": "code",
      "execution_count": null,
      "metadata": {
        "collapsed": false
      },
      "outputs": [],
      "source": [
        "# access to a specific spectral band\n\nraman_image.band(1500)\nraman_spectrum.band(1500)"
      ]
    },
    {
      "cell_type": "markdown",
      "metadata": {},
      "source": [
        "## Indexing\nAnother useful feature of the :class:`ramanspy.SpectralContainer` containers is their extensive spatial indexing capability.\n\n"
      ]
    },
    {
      "cell_type": "code",
      "execution_count": null,
      "metadata": {
        "collapsed": false
      },
      "outputs": [],
      "source": [
        "print(type(raman_image[10, 10]))"
      ]
    },
    {
      "cell_type": "markdown",
      "metadata": {},
      "source": [
        "So, we can plot such indexed objects just as manually created ones:\n\n"
      ]
    },
    {
      "cell_type": "code",
      "execution_count": null,
      "metadata": {
        "collapsed": false
      },
      "outputs": [],
      "source": [
        "raman_image[10, 10].plot()"
      ]
    },
    {
      "cell_type": "code",
      "execution_count": null,
      "metadata": {
        "collapsed": false
      },
      "outputs": [],
      "source": [
        "print(type(raman_image[10]))"
      ]
    },
    {
      "cell_type": "code",
      "execution_count": null,
      "metadata": {
        "collapsed": false
      },
      "outputs": [],
      "source": [
        "print(type(raman_volume[10]))"
      ]
    },
    {
      "cell_type": "code",
      "execution_count": null,
      "metadata": {
        "collapsed": false
      },
      "outputs": [],
      "source": [
        "print(type(raman_hypervolume[10]))"
      ]
    },
    {
      "cell_type": "code",
      "execution_count": null,
      "metadata": {
        "collapsed": false
      },
      "outputs": [],
      "source": [
        "print(type(raman_hypervolume[10, 10]))"
      ]
    },
    {
      "cell_type": "markdown",
      "metadata": {},
      "source": [
        "## IO\n:class:`ramanspy.SpectralContainer` containers (and thus subclasses) can also be saved as and loaded from pickle files.\n\n"
      ]
    },
    {
      "cell_type": "code",
      "execution_count": null,
      "metadata": {
        "collapsed": false
      },
      "outputs": [],
      "source": [
        "# save\nraman_image.save(\"my_raman_image\")\n\n# load\nraman_image_ = ramanspy.SpectralContainer.load(\"my_raman_image\")\nraman_image_.shape"
      ]
    }
  ],
  "metadata": {
    "kernelspec": {
      "display_name": "Python 3",
      "language": "python",
      "name": "python3"
    },
    "language_info": {
      "codemirror_mode": {
        "name": "ipython",
        "version": 3
      },
      "file_extension": ".py",
      "mimetype": "text/x-python",
      "name": "python",
      "nbconvert_exporter": "python",
      "pygments_lexer": "ipython3",
      "version": "3.11.4"
    }
  },
  "nbformat": 4,
  "nbformat_minor": 0
}