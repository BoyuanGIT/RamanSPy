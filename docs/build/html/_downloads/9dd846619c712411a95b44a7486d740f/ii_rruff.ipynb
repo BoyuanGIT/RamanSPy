{
  "cells": [
    {
      "cell_type": "markdown",
      "metadata": {},
      "source": [
        "\n# Loading the RRUFF dataset\n\nIn this tutorial, we will see how to load the `RRUFF data` using `RamanSPy`.\n"
      ]
    },
    {
      "cell_type": "code",
      "execution_count": null,
      "metadata": {
        "collapsed": false
      },
      "outputs": [],
      "source": [
        "import ramanspy"
      ]
    },
    {
      "cell_type": "markdown",
      "metadata": {},
      "source": [
        "We can use `RamanSPy` to easily downloaded a specific dataset from RRUFF database available on the Internet by simply\nindicating the name of the dataset to load within the :meth:`ramanspy.datasets.rruff` method.\n\n"
      ]
    },
    {
      "cell_type": "code",
      "execution_count": null,
      "metadata": {
        "collapsed": false
      },
      "outputs": [],
      "source": [
        "ramanspy.datasets.rruff('fair_oriented')"
      ]
    },
    {
      "cell_type": "markdown",
      "metadata": {},
      "source": [
        "If the dataset of interest has already been downloaded on your machine, you can load it by specifying the folder it is\npresent at and setting ``download=False``.\n\n"
      ]
    },
    {
      "cell_type": "code",
      "execution_count": null,
      "metadata": {
        "collapsed": false
      },
      "outputs": [],
      "source": [
        "ramanspy.datasets.rruff('<PATH>', download=False)"
      ]
    }
  ],
  "metadata": {
    "kernelspec": {
      "display_name": "Python 3",
      "language": "python",
      "name": "python3"
    },
    "language_info": {
      "codemirror_mode": {
        "name": "ipython",
        "version": 3
      },
      "file_extension": ".py",
      "mimetype": "text/x-python",
      "name": "python",
      "nbconvert_exporter": "python",
      "pygments_lexer": "ipython3",
      "version": "3.11.4"
    }
  },
  "nbformat": 4,
  "nbformat_minor": 0
}