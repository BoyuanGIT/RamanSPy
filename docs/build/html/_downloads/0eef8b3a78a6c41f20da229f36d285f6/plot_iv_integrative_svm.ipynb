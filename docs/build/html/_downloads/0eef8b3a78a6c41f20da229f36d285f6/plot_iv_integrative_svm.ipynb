{
  "cells": [
    {
      "cell_type": "markdown",
      "metadata": {},
      "source": [
        "\n# Integrative analysis: Support Vector Machine (SVM) classification\n\nIn this example, we will showcase `RamanSPy's` integrability by integrating a Support Vector Machine (SVM) machine learning\nmodel for the identification of different bacteria species.\n\nTo build the model, we will use the [scikit-learn](https://scikit-learn.org/stable/index.html) Python framework.\n\nThe data we will use is the `Bacteria data`, which is integrated into `RamanSPy`.\n"
      ]
    },
    {
      "cell_type": "code",
      "execution_count": null,
      "metadata": {
        "collapsed": false
      },
      "outputs": [],
      "source": [
        "from sklearn import svm\nfrom sklearn.metrics import accuracy_score, confusion_matrix\nfrom sklearn.utils import shuffle\nimport seaborn as sns\n\nimport ramanspy"
      ]
    },
    {
      "cell_type": "markdown",
      "metadata": {},
      "source": [
        "First, we will use `RamanSPy` to load the validation and testing bacteria datasets.\n\n"
      ]
    },
    {
      "cell_type": "code",
      "execution_count": null,
      "metadata": {
        "collapsed": false
      },
      "outputs": [],
      "source": [
        "dir_ = r\"../../../../data/bacteria_data\"\n\nX_train, y_train = ramanspy.datasets.bacteria(\"val\", folder=dir_)\nX_test, y_test = ramanspy.datasets.bacteria(\"test\", folder=dir_)"
      ]
    },
    {
      "cell_type": "markdown",
      "metadata": {},
      "source": [
        "To guide the training, it is important to shuffle the training dataset, which is originally ordered by bacteria species.\n\n"
      ]
    },
    {
      "cell_type": "code",
      "execution_count": null,
      "metadata": {
        "collapsed": false
      },
      "outputs": [],
      "source": [
        "X_train, y_train = shuffle(X_train.flat.spectral_data, y_train)"
      ]
    },
    {
      "cell_type": "markdown",
      "metadata": {},
      "source": [
        "Then, we can simply use `scikit-learn's` implementation of SVMs.\n\n"
      ]
    },
    {
      "cell_type": "code",
      "execution_count": null,
      "metadata": {
        "collapsed": false
      },
      "outputs": [],
      "source": [
        "svc = svm.SVC()  # initialisation"
      ]
    },
    {
      "cell_type": "markdown",
      "metadata": {},
      "source": [
        "Training the SVM model on the training dataset.\n\n"
      ]
    },
    {
      "cell_type": "code",
      "execution_count": null,
      "metadata": {
        "collapsed": false
      },
      "outputs": [],
      "source": [
        "_ = svc.fit(X_train, y_train)"
      ]
    },
    {
      "cell_type": "markdown",
      "metadata": {},
      "source": [
        "Testing the trained model on the unseen testing dataset.\n\n"
      ]
    },
    {
      "cell_type": "code",
      "execution_count": null,
      "metadata": {
        "collapsed": false
      },
      "outputs": [],
      "source": [
        "y_pred = svc.predict(X_test.flat.spectral_data)\nprint(f\"The accuracy of the SVM model is: {accuracy_score(y_pred, y_test)}\")"
      ]
    },
    {
      "cell_type": "markdown",
      "metadata": {},
      "source": [
        "Confusion matrix:\n\n"
      ]
    },
    {
      "cell_type": "code",
      "execution_count": null,
      "metadata": {
        "collapsed": false
      },
      "outputs": [],
      "source": [
        "cf_matrix = confusion_matrix(y_test, y_pred)\n_ = sns.heatmap(cf_matrix, annot=True)"
      ]
    }
  ],
  "metadata": {
    "kernelspec": {
      "display_name": "Python 3",
      "language": "python",
      "name": "python3"
    },
    "language_info": {
      "codemirror_mode": {
        "name": "ipython",
        "version": 3
      },
      "file_extension": ".py",
      "mimetype": "text/x-python",
      "name": "python",
      "nbconvert_exporter": "python",
      "pygments_lexer": "ipython3",
      "version": "3.11.4"
    }
  },
  "nbformat": 4,
  "nbformat_minor": 0
}