{
  "cells": [
    {
      "cell_type": "markdown",
      "metadata": {},
      "source": [
        "\n# Built-in clustering methods\n\nBelow, we will use `RamanSPy's` built-in clustering methods to perform KMeans clustering and cluster a Raman spectroscopic image.\n\nIn particular, we will cluster the fourth layer of the volumetric `Volumetric cell data` provided in `RamanSPy`.\n"
      ]
    },
    {
      "cell_type": "code",
      "execution_count": null,
      "metadata": {
        "collapsed": false
      },
      "outputs": [],
      "source": [
        "import ramanspy\n\ndir_ = r'../../../../data/kallepitis_data'\n\nvolumes = ramanspy.datasets.volumetric_cells(cell_type='THP-1', folder=dir_)\n\ncell_layer = volumes[0].layer(5)  # only selecting the fourth layer of the volume"
      ]
    },
    {
      "cell_type": "markdown",
      "metadata": {},
      "source": [
        "We will first preprocess the spectral image to improve the results of our consecutive analysis.\n\n"
      ]
    },
    {
      "cell_type": "code",
      "execution_count": null,
      "metadata": {
        "collapsed": false
      },
      "outputs": [],
      "source": [
        "preprocessing_pipeline = ramanspy.preprocessing.Pipeline([\n    ramanspy.preprocessing.misc.Cropper(region=(500, 1800)),\n    ramanspy.preprocessing.despike.WhitakerHayes(),\n    ramanspy.preprocessing.denoise.SavGol(window_length=7, polyorder=3),\n    ramanspy.preprocessing.baseline.ASLS(),\n    ramanspy.preprocessing.normalise.MinMax(pixelwise=False),\n])\npreprocessed_cell_layer = preprocessing_pipeline.apply(cell_layer)"
      ]
    },
    {
      "cell_type": "markdown",
      "metadata": {},
      "source": [
        "To check the effect of our preprocessing protocol, we can re-plot the same spectral slice as before\n\n"
      ]
    },
    {
      "cell_type": "code",
      "execution_count": null,
      "metadata": {
        "collapsed": false
      },
      "outputs": [],
      "source": [
        "preprocessed_cell_layer.plot(bands=[1008])"
      ]
    },
    {
      "cell_type": "markdown",
      "metadata": {},
      "source": [
        "We can then access and use `RamanSPy's` implementation of KMeans clustering with 4 clusters.\n\n"
      ]
    },
    {
      "cell_type": "code",
      "execution_count": null,
      "metadata": {
        "collapsed": false
      },
      "outputs": [],
      "source": [
        "kmeans = ramanspy.analysis.cluster.KMeans(n_clusters=4)"
      ]
    },
    {
      "cell_type": "code",
      "execution_count": null,
      "metadata": {
        "collapsed": false
      },
      "outputs": [],
      "source": [
        "clusters, cluster_centres = kmeans.apply(preprocessed_cell_layer)"
      ]
    },
    {
      "cell_type": "markdown",
      "metadata": {},
      "source": [
        "Finally, we can use `RamanSPy's` :meth:`ramanspy.plot.spectra` and :meth:`ramanspy.plot.image` methods to visualise the derived\nclusters.\n\n"
      ]
    },
    {
      "cell_type": "code",
      "execution_count": null,
      "metadata": {
        "collapsed": false
      },
      "outputs": [],
      "source": [
        "ramanspy.plot.spectra(cluster_centres, preprocessed_cell_layer.spectral_axis, plot_type=\"single stacked\", label=[f\"Cluster centre {i + 1}\" for i in range(len(cluster_centres))])"
      ]
    },
    {
      "cell_type": "code",
      "execution_count": null,
      "metadata": {
        "collapsed": false
      },
      "outputs": [],
      "source": [
        "ramanspy.plot.image(clusters, title=[f\"Clusters {i + 1}\" for i in range(len(clusters))], cbar=False)"
      ]
    }
  ],
  "metadata": {
    "kernelspec": {
      "display_name": "Python 3",
      "language": "python",
      "name": "python3"
    },
    "language_info": {
      "codemirror_mode": {
        "name": "ipython",
        "version": 3
      },
      "file_extension": ".py",
      "mimetype": "text/x-python",
      "name": "python",
      "nbconvert_exporter": "python",
      "pygments_lexer": "ipython3",
      "version": "3.11.4"
    }
  },
  "nbformat": 4,
  "nbformat_minor": 0
}