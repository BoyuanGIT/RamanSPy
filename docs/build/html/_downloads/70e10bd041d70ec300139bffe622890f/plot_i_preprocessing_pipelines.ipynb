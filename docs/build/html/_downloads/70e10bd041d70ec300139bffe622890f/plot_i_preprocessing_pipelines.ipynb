{
  "cells": [
    {
      "cell_type": "markdown",
      "metadata": {},
      "source": [
        "\n# Preprocessing pipelines\n\nIn this example, we will see how easy it is to construct, customise and reuse preprocessing protocols with `RamanSPy`.\n\nData used is from [1]_.\n\n## Prerequisites\n"
      ]
    },
    {
      "cell_type": "code",
      "execution_count": null,
      "metadata": {
        "collapsed": false
      },
      "outputs": [],
      "source": [
        "import matplotlib.pyplot as plt\nimport random\nimport numpy as np\n\nimport ramanspy"
      ]
    },
    {
      "cell_type": "markdown",
      "metadata": {},
      "source": [
        "Set random seed for reproducibility\n\n"
      ]
    },
    {
      "cell_type": "code",
      "execution_count": null,
      "metadata": {
        "collapsed": false
      },
      "outputs": [],
      "source": [
        "random.seed(42)"
      ]
    },
    {
      "cell_type": "markdown",
      "metadata": {},
      "source": [
        "Define color palette.\n\n"
      ]
    },
    {
      "cell_type": "code",
      "execution_count": null,
      "metadata": {
        "collapsed": false
      },
      "outputs": [],
      "source": [
        "colors = plt.cm.get_cmap()(np.linspace(0, 1, 4))"
      ]
    },
    {
      "cell_type": "markdown",
      "metadata": {},
      "source": [
        "## Data loading\nLoading the data.\n\n"
      ]
    },
    {
      "cell_type": "code",
      "execution_count": null,
      "metadata": {
        "collapsed": false
      },
      "outputs": [],
      "source": [
        "thp1_volumes = ramanspy.datasets.volumetric_cells(cell_type='THP-1', folder=r'../../../data/kallepitis_data')\n\n# selecting the first volume\nthp1_volume = thp1_volumes[0]"
      ]
    },
    {
      "cell_type": "markdown",
      "metadata": {},
      "source": [
        "Grab 2 random spectra from the volume\n\n"
      ]
    },
    {
      "cell_type": "code",
      "execution_count": null,
      "metadata": {
        "collapsed": false
      },
      "outputs": [],
      "source": [
        "random_spectra_indices = random.sample(range(thp1_volume.flat.shape[0]), 2)\nrandom_spectra = list(thp1_volume.flat[random_spectra_indices])"
      ]
    },
    {
      "cell_type": "markdown",
      "metadata": {},
      "source": [
        "Plot the raw spectra\n\n"
      ]
    },
    {
      "cell_type": "code",
      "execution_count": null,
      "metadata": {
        "collapsed": false
      },
      "outputs": [],
      "source": [
        "_ = ramanspy.plot.spectra(random_spectra, color=colors[1], plot_type='separate')"
      ]
    },
    {
      "cell_type": "markdown",
      "metadata": {},
      "source": [
        "Plot the fingerprint region\n\n"
      ]
    },
    {
      "cell_type": "code",
      "execution_count": null,
      "metadata": {
        "collapsed": false
      },
      "outputs": [],
      "source": [
        "cropper = ramanspy.preprocessing.misc.Cropper(region=(700, 1800))\nfingerprint_region = cropper.apply(random_spectra)\n_ = ramanspy.plot.spectra(fingerprint_region, color=colors[1], plot_type='separate')"
      ]
    },
    {
      "cell_type": "markdown",
      "metadata": {},
      "source": [
        "## Pipelines\nBelow, we will investigate a series of preprocessing pipelines and their effect on the spectra.\n\n"
      ]
    },
    {
      "cell_type": "markdown",
      "metadata": {},
      "source": [
        "### Pipeline I\nApplying a preprocessing protocol which consists of:\n\n    - spectral cropping to the fingerprint region (700-1800 cm-1);\n    - cosmic ray removal with Whitaker-Hayes algorithm;\n    - denoising with a Gaussian filter;\n    - baseline correction with Asymmetric Least Squares;\n    - Area under the curve normalisation (pixelwise).\n\n"
      ]
    },
    {
      "cell_type": "markdown",
      "metadata": {},
      "source": [
        "Define the pipeline\n\n"
      ]
    },
    {
      "cell_type": "code",
      "execution_count": null,
      "metadata": {
        "collapsed": false
      },
      "outputs": [],
      "source": [
        "pipe = ramanspy.preprocessing.Pipeline([\n    cropper,\n    ramanspy.preprocessing.despike.WhitakerHayes(),\n    ramanspy.preprocessing.denoise.Gaussian(),\n    ramanspy.preprocessing.baseline.ASLS(),\n    ramanspy.preprocessing.normalise.AUC(pixelwise=True),\n])\n\n# preprocess the spectra\npreprocessed_spectra = pipe.apply(random_spectra)\n\n# plot the results\n_ = ramanspy.plot.spectra(preprocessed_spectra, color=colors[3], plot_type='separate')"
      ]
    },
    {
      "cell_type": "markdown",
      "metadata": {},
      "source": [
        "### Pipeline II\nApplying a preprocessing protocol which consists of:\n\n    - spectral cropping to the fingerprint region (700-1800 cm-1);\n    - cosmic ray removal with Whitaker-Hayes algorithm;\n    - denoising with Savitzky-Golay filter with window length 9 and polynomial order 3;\n    - baseline correction with Adaptive Smoothness Penalized Least Squares (asPLS);\n    - MinMax normalisation (pixelwise).\n\n"
      ]
    },
    {
      "cell_type": "code",
      "execution_count": null,
      "metadata": {
        "collapsed": false
      },
      "outputs": [],
      "source": [
        "# preprocess the spectra\npipe = ramanspy.preprocessing.protocols.Pipeline([\n    cropper,\n    ramanspy.preprocessing.despike.WhitakerHayes(),\n    ramanspy.preprocessing.denoise.SavGol(window_length=9, polyorder=3),\n    ramanspy.preprocessing.baseline.ASPLS(),\n    ramanspy.preprocessing.normalise.MinMax(pixelwise=True),\n])\npreprocessed_spectra = pipe.apply(random_spectra)\n\n# plot the results\n_ = ramanspy.plot.spectra(preprocessed_spectra, color=colors[0], plot_type='separate')"
      ]
    },
    {
      "cell_type": "markdown",
      "metadata": {},
      "source": [
        "### Pipeline III\nApplying a preprocessing protocol inspired from [2]_ which consists of:\n\n    - spectral cropping to the fingerprint region (700-1800 cm-1);\n    - cosmic ray removal with Whitaker-Hayes algorithm.\n    - baseline correction with polynomial fitting of order 2;\n    - (Unit) Vector normalisation (pixelwise).\n\n"
      ]
    },
    {
      "cell_type": "code",
      "execution_count": null,
      "metadata": {
        "collapsed": false
      },
      "outputs": [],
      "source": [
        "# preprocess the spectra\npipe = ramanspy.preprocessing.Pipeline([\n    cropper,\n    ramanspy.preprocessing.despike.WhitakerHayes(),\n    ramanspy.preprocessing.baseline.Poly(poly_order=3),\n    ramanspy.preprocessing.normalise.Vector(pixelwise=True)\n])\npreprocessed_spectra = pipe.apply(random_spectra)\n\n# plot the results\n_ = ramanspy.plot.spectra(preprocessed_spectra, color=colors[2], plot_type='separate')"
      ]
    },
    {
      "cell_type": "markdown",
      "metadata": {},
      "source": [
        "## References\n.. [1] Kallepitis, C., Bergholt, M., Mazo, M. et al. Quantitative volumetric Raman imaging of three dimensional cell cultures. Nat Commun 8, 14843 (2017).\n\n.. [2] Bergholt MS, St-Pierre JP, Offeddu GS, Parmar PA, Albro MB, Puetzer JL, Oyen ML, Stevens MM. Raman spectroscopy reveals new insights into the zonal organization of native and tissue-engineered articular cartilage. ACS central science. 2016 Dec 28;2(12):885-95.\n\n"
      ]
    }
  ],
  "metadata": {
    "kernelspec": {
      "display_name": "Python 3",
      "language": "python",
      "name": "python3"
    },
    "language_info": {
      "codemirror_mode": {
        "name": "ipython",
        "version": 3
      },
      "file_extension": ".py",
      "mimetype": "text/x-python",
      "name": "python",
      "nbconvert_exporter": "python",
      "pygments_lexer": "ipython3",
      "version": "3.11.4"
    }
  },
  "nbformat": 4,
  "nbformat_minor": 0
}