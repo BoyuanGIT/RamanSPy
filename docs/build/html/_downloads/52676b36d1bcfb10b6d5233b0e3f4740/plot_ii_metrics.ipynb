{
  "cells": [
    {
      "cell_type": "markdown",
      "metadata": {},
      "source": [
        "\n# Using built-in metrics\n\nIn this tutorial, we will see how to access and use the built-in metrics available in `RamanSPy`.\n"
      ]
    },
    {
      "cell_type": "code",
      "execution_count": null,
      "metadata": {
        "collapsed": false
      },
      "outputs": [],
      "source": [
        "import numpy as np\n\nimport ramanspy"
      ]
    },
    {
      "cell_type": "markdown",
      "metadata": {},
      "source": [
        "To access the built-in metrics, simply use the :mod:`ramanspy.metrics` module.\n\n"
      ]
    },
    {
      "cell_type": "markdown",
      "metadata": {},
      "source": [
        "Before we make use of the metrics, let us first define some dummy data to work with. We will create two spectra, one\nthat is a sine wave and another that is a cosine wave. We will then use the metrics to compare the two spectra.\n\n"
      ]
    },
    {
      "cell_type": "code",
      "execution_count": null,
      "metadata": {
        "collapsed": false
      },
      "outputs": [],
      "source": [
        "spectral_axis = np.linspace(100, 3600, 1500)\n\nsine_data = np.sin(spectral_axis/120)\ncosine_data = np.cos(spectral_axis/120)\n\nsine_spectrum = ramanspy.Spectrum(sine_data, spectral_axis)\ncosine_spectrum = ramanspy.Spectrum(cosine_data, spectral_axis)"
      ]
    },
    {
      "cell_type": "markdown",
      "metadata": {},
      "source": [
        "We can visualise the two spectra with the data visualisation tools in `RamanSPy`.\n\n"
      ]
    },
    {
      "cell_type": "code",
      "execution_count": null,
      "metadata": {
        "collapsed": false
      },
      "outputs": [],
      "source": [
        "_ = ramanspy.plot.spectra([sine_spectrum, cosine_spectrum], plot_type=\"single\", label=[\"Sine\", \"Cosine\"])"
      ]
    },
    {
      "cell_type": "markdown",
      "metadata": {},
      "source": [
        "We can then measure the distance or similarity of the two spectra using the built-in metrics. For instance, we can\nuse the :meth:`ramanspy.metrics.MAE` to measure the mean absolute error between the two spectra.\n\n"
      ]
    },
    {
      "cell_type": "code",
      "execution_count": null,
      "metadata": {
        "collapsed": false
      },
      "outputs": [],
      "source": [
        "ramanspy.metrics.MAE(sine_spectrum, cosine_spectrum)"
      ]
    },
    {
      "cell_type": "markdown",
      "metadata": {},
      "source": [
        "To double-check that the metric is working as expected, we can also measure the distance between the seme spectrum.\n\n"
      ]
    },
    {
      "cell_type": "code",
      "execution_count": null,
      "metadata": {
        "collapsed": false
      },
      "outputs": [],
      "source": [
        "ramanspy.metrics.MAE(sine_spectrum, sine_spectrum)"
      ]
    },
    {
      "cell_type": "markdown",
      "metadata": {},
      "source": [
        "Other metrics that are available include the :meth:`~ramanspy.metrics.MSE`, :meth:`~ramanspy.metrics.RMSE`, :meth:`~ramanspy.metrics.SAD`, :meth:`~ramanspy.metrics.SID`.\nFor more information about these metrics, refer to their documentation.\n\n"
      ]
    },
    {
      "cell_type": "markdown",
      "metadata": {},
      "source": [
        "For instance, we can use the :meth:`~ramanspy.metrics.SAD` to measure the spectral angle distance between the two spectra.\n\n"
      ]
    },
    {
      "cell_type": "code",
      "execution_count": null,
      "metadata": {
        "collapsed": false
      },
      "outputs": [],
      "source": [
        "ramanspy.metrics.SAD(sine_spectrum, cosine_spectrum)"
      ]
    }
  ],
  "metadata": {
    "kernelspec": {
      "display_name": "Python 3",
      "language": "python",
      "name": "python3"
    },
    "language_info": {
      "codemirror_mode": {
        "name": "ipython",
        "version": 3
      },
      "file_extension": ".py",
      "mimetype": "text/x-python",
      "name": "python",
      "nbconvert_exporter": "python",
      "pygments_lexer": "ipython3",
      "version": "3.11.4"
    }
  },
  "nbformat": 4,
  "nbformat_minor": 0
}