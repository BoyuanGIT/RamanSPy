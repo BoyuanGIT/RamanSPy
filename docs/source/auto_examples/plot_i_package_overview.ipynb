{
  "cells": [
    {
      "cell_type": "markdown",
      "metadata": {},
      "source": [
        "\n# Cell phenotyping\n\nHyperspectral unmixing of Raman spectroscopic data to analyse the biomolecular composition of cells. Data from [1]_.\n\n## Prerequisites\n"
      ]
    },
    {
      "cell_type": "code",
      "execution_count": null,
      "metadata": {
        "collapsed": false
      },
      "outputs": [],
      "source": [
        "import ramanspy\nimport numpy as np\nfrom matplotlib.colors import LinearSegmentedColormap\nimport matplotlib.pyplot as plt\nimport random"
      ]
    },
    {
      "cell_type": "markdown",
      "metadata": {},
      "source": [
        "Set random seed for reproducibility\n\n"
      ]
    },
    {
      "cell_type": "code",
      "execution_count": null,
      "metadata": {
        "collapsed": false
      },
      "outputs": [],
      "source": [
        "random.seed(12345)"
      ]
    },
    {
      "cell_type": "markdown",
      "metadata": {},
      "source": [
        "## Data loading\nWe load the data corresponding to THP-1 cells from [1]_ and select the first cell volume.\n\n"
      ]
    },
    {
      "cell_type": "code",
      "execution_count": null,
      "metadata": {
        "collapsed": false
      },
      "outputs": [],
      "source": [
        "dir_ = r'../../../data/kallepitis_data'\n\nvolumes = ramanspy.datasets.volumetric_cells(cell_type='THP-1', folder=dir_)\n\n# select the first volume\nvolume = volumes[0]"
      ]
    },
    {
      "cell_type": "markdown",
      "metadata": {},
      "source": [
        "## Preprocessing\nWe define a preprocessing pipeline to apply to the volume.\n\n"
      ]
    },
    {
      "cell_type": "code",
      "execution_count": null,
      "metadata": {
        "collapsed": false
      },
      "outputs": [],
      "source": [
        "preprocessing_pipeline = ramanspy.preprocessing.Pipeline([\n    ramanspy.preprocessing.misc.Cropper(region=(700, 1800)),\n    ramanspy.preprocessing.despike.WhitakerHayes(),\n    ramanspy.preprocessing.denoise.SavGol(window_length=7, polyorder=3),\n    ramanspy.preprocessing.baseline.ASLS(),\n    ramanspy.preprocessing.normalise.MinMax(pixelwise=False),\n])\n\npreprocessed_volume = preprocessing_pipeline.apply(volume)"
      ]
    },
    {
      "cell_type": "markdown",
      "metadata": {},
      "source": [
        "Visualising the effect of plotting.\n\n"
      ]
    },
    {
      "cell_type": "code",
      "execution_count": null,
      "metadata": {
        "collapsed": false
      },
      "outputs": [],
      "source": [
        "selected_image_layer = 5\nselected_spectrum_index = (15, 25, selected_image_layer)\n\nbands = [789, 1008, 1303]\nband_components = ['DNA', 'Protein', 'Lipids']\n\nlabels = [f'{comp}\\n{band} cm$^{{{-1}}}$' for band, comp in zip(bands, band_components)]"
      ]
    },
    {
      "cell_type": "markdown",
      "metadata": {},
      "source": [
        "Data before preprocessing.\n\n"
      ]
    },
    {
      "cell_type": "code",
      "execution_count": null,
      "metadata": {
        "collapsed": false
      },
      "outputs": [],
      "source": [
        "ax = ramanspy.plot.spectra(volume[selected_spectrum_index])"
      ]
    },
    {
      "cell_type": "markdown",
      "metadata": {},
      "source": [
        "Data before preprocessing with fingerprint region highlighted.\n\n"
      ]
    },
    {
      "cell_type": "code",
      "execution_count": null,
      "metadata": {
        "collapsed": false
      },
      "outputs": [],
      "source": [
        "plt.subplots(figsize=(4, 3))\nax = ramanspy.plot.spectra(volume[selected_spectrum_index], title=\"Raw spectrum\")\nax.axvspan(700, 1800, alpha=0.25, color='red', zorder=0)\n\nax.axvline(700, linestyle='--', c='red', zorder=0)\nax.text(730, .95, 700, transform=ax.get_xaxis_transform())\nax.axvline(1800, linestyle='--', c='red', zorder=0)\nax.text(1460, .95, 1800, transform=ax.get_xaxis_transform())\nplt.show()"
      ]
    },
    {
      "cell_type": "markdown",
      "metadata": {},
      "source": [
        "The raw data from the fingerprint region.\n\n"
      ]
    },
    {
      "cell_type": "code",
      "execution_count": null,
      "metadata": {
        "collapsed": false
      },
      "outputs": [],
      "source": [
        "cropped = ramanspy.preprocessing.misc.Cropper(region=(700, 1800)).apply(volume[selected_spectrum_index])\n\nax = ramanspy.plot.spectra(cropped, title=\"Raw spectrum (zoomed in)\")"
      ]
    },
    {
      "cell_type": "markdown",
      "metadata": {},
      "source": [
        "Fingerprint region data after preprocessing.\n\n"
      ]
    },
    {
      "cell_type": "code",
      "execution_count": null,
      "metadata": {
        "collapsed": false
      },
      "outputs": [],
      "source": [
        "ax = ramanspy.plot.spectra(preprocessed_volume[selected_spectrum_index], title=\"Preprocessed spectrum\", ylabel=\"Normalised intensity\")"
      ]
    },
    {
      "cell_type": "markdown",
      "metadata": {},
      "source": [
        "Plotting spectral slices across relevant bands corresponding to biomolecular components, such as DNA, protein and lipids.\n\n"
      ]
    },
    {
      "cell_type": "code",
      "execution_count": null,
      "metadata": {
        "collapsed": false
      },
      "outputs": [],
      "source": [
        "axs = ramanspy.plot.volume([preprocessed_volume.band(band) for band in bands], title=labels)"
      ]
    },
    {
      "cell_type": "code",
      "execution_count": null,
      "metadata": {
        "collapsed": false
      },
      "outputs": [],
      "source": [
        "ax = ramanspy.plot.volume(preprocessed_volume.band(bands[1]), title=labels[1])"
      ]
    },
    {
      "cell_type": "code",
      "execution_count": null,
      "metadata": {
        "collapsed": false
      },
      "outputs": [],
      "source": [
        "ramanspy.plot.image([preprocessed_volume.layer(selected_image_layer).band(band) for band in bands], title=labels)"
      ]
    },
    {
      "cell_type": "code",
      "execution_count": null,
      "metadata": {
        "collapsed": false
      },
      "outputs": [],
      "source": [
        "ax = ramanspy.plot.image(preprocessed_volume.layer(selected_image_layer).band(bands[1]), title=labels[1])"
      ]
    },
    {
      "cell_type": "markdown",
      "metadata": {},
      "source": [
        "## Spectral unmixing\nWe use the N-FINDR [2]_ algorithm to unmix the volume into endmembers and FCLS [3]_ to derive the corresponding abundance maps.\n\n"
      ]
    },
    {
      "cell_type": "code",
      "execution_count": null,
      "metadata": {
        "collapsed": false
      },
      "outputs": [],
      "source": [
        "nfindr_unmixer = ramanspy.analysis.unmix.NFINDR(n_endmembers=5)"
      ]
    },
    {
      "cell_type": "code",
      "execution_count": null,
      "metadata": {
        "collapsed": false
      },
      "outputs": [],
      "source": [
        "abundance_maps, endmembers = nfindr_unmixer.apply(preprocessed_volume)"
      ]
    },
    {
      "cell_type": "markdown",
      "metadata": {},
      "source": [
        "## Plotting results\nPlotting the derived endmembers.\n\n"
      ]
    },
    {
      "cell_type": "code",
      "execution_count": null,
      "metadata": {
        "collapsed": false
      },
      "outputs": [],
      "source": [
        "ax = ramanspy.plot.spectra(endmembers, wavenumber_axis=preprocessed_volume.spectral_axis, plot_type='single stacked')"
      ]
    },
    {
      "cell_type": "markdown",
      "metadata": {},
      "source": [
        "Plotting a selection of endmembers that are representative of the different biomolecular components with relevant\npeaks used to identify the components highlighted.\n\n"
      ]
    },
    {
      "cell_type": "code",
      "execution_count": null,
      "metadata": {
        "collapsed": false
      },
      "outputs": [],
      "source": [
        "selected_indices = [0, 1, 3, 4]\nlabels_ = ['Lipids', 'Nucleus', 'Cytoplasm', 'Background']\n\nselected_endmembers = [endmembers[i] for i in selected_indices]\nselected_abundances = [abundance_maps[i] for i in selected_indices]"
      ]
    },
    {
      "cell_type": "code",
      "execution_count": null,
      "metadata": {
        "collapsed": false
      },
      "outputs": [],
      "source": [
        "plt.figure(figsize=(10, 5))\n\nax = ramanspy.plot.spectra(selected_endmembers, wavenumber_axis=preprocessed_volume.spectral_axis, plot_type='single stacked', label=labels_, title='Endmembers')\n\npeaks = [789, 1008, 1066, 1134, 1303, 1443, 1747]\n\nax.axvline(789, linestyle='--', c='black', zorder=0)\nax.text(725, .95, 789, transform=ax.get_xaxis_transform())\n\nax.axvline(1008, linestyle='--', c='black', zorder=0)\nax.text(930, .9, 1008, transform=ax.get_xaxis_transform())\n\nax.axvline(1066, linestyle='--', c='black', zorder=0)\nax.text(1027, .95, 1066, transform=ax.get_xaxis_transform())\n\nax.axvline(1134, linestyle='--', c='black', zorder=0)\nax.text(1145, .9, 1134, transform=ax.get_xaxis_transform())\n\nax.axvline(1303, linestyle='--', c='black', zorder=0)\nax.text(1310, .95, 1303, transform=ax.get_xaxis_transform())\n\nax.axvline(1443, linestyle='--', c='black', zorder=0)\nax.text(1450, .95, 1443, transform=ax.get_xaxis_transform())\n\nax.axvline(1747, linestyle='--', c='black', zorder=0)\nax.text(1660, .95, 1747, transform=ax.get_xaxis_transform())\nplt.show()"
      ]
    },
    {
      "cell_type": "markdown",
      "metadata": {},
      "source": [
        "Plotting the abundance maps corresponding to the selected endmembers.\n\n"
      ]
    },
    {
      "cell_type": "code",
      "execution_count": null,
      "metadata": {
        "collapsed": false
      },
      "outputs": [],
      "source": [
        "axs = ramanspy.plot.volume(selected_abundances, title=labels_, cbar=False)"
      ]
    },
    {
      "cell_type": "code",
      "execution_count": null,
      "metadata": {
        "collapsed": false
      },
      "outputs": [],
      "source": [
        "axs = ramanspy.plot.image([abundance_map[..., selected_image_layer] for abundance_map in selected_abundances], title=labels_, cbar=False)"
      ]
    },
    {
      "cell_type": "markdown",
      "metadata": {},
      "source": [
        "Plotting a merged reconstruction of the selected image slice by plotting the abundance maps in one plot.\n\n"
      ]
    },
    {
      "cell_type": "code",
      "execution_count": null,
      "metadata": {
        "collapsed": false
      },
      "outputs": [],
      "source": [
        "fig, ax = plt.subplots()\n\ncmap = plt.cm.get_cmap()(np.linspace(0, 1, len(selected_abundances)))\n\nwhite = [1, 1, 1, 0]\n\norder = ['Background', 'Cytoplasm', 'Nucleus', 'Lipids']\nfor label in order:\n    i = labels_.index(label)\n    ax.imshow(selected_abundances[i][..., selected_image_layer], cmap=LinearSegmentedColormap.from_list('', [white, cmap[i]]))\n\nax.set_title('Merged')\n\nplt.show()"
      ]
    },
    {
      "cell_type": "markdown",
      "metadata": {},
      "source": [
        "## References\n.. [1] Kallepitis, C., Bergholt, M., Mazo, M. et al. Quantitative volumetric Raman imaging of three dimensional cell cultures. Nat Commun 8, 14843 (2017).\n\n.. [2] Winter ME. N-FINDR: An algorithm for fast autonomous spectral end-member determination in hyperspectral data. InImaging Spectrometry V 1999 Oct 27 (Vol. 3753, pp. 266-275). SPIE.\n\n.. [3] Heinz DC. Fully constrained least squares linear spectral mixture analysis method for material quantification in hyperspectral imagery. IEEE transactions on geoscience and remote sensing. 2001 Mar;39(3):529-45.\n\n"
      ]
    }
  ],
  "metadata": {
    "kernelspec": {
      "display_name": "Python 3",
      "language": "python",
      "name": "python3"
    },
    "language_info": {
      "codemirror_mode": {
        "name": "ipython",
        "version": 3
      },
      "file_extension": ".py",
      "mimetype": "text/x-python",
      "name": "python",
      "nbconvert_exporter": "python",
      "pygments_lexer": "ipython3",
      "version": "3.11.4"
    }
  },
  "nbformat": 4,
  "nbformat_minor": 0
}