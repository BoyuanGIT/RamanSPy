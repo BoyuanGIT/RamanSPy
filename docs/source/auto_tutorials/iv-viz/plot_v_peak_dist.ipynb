{
  "cells": [
    {
      "cell_type": "markdown",
      "metadata": {},
      "source": [
        "\n# Visualising peak distributions\n\nOne of the data visualisation tools `RamanSPy` offers is the :meth:`ramanspy.plot.peak_dist` - a method intended for the\nvisualisation of peak distributions.\n"
      ]
    },
    {
      "cell_type": "markdown",
      "metadata": {},
      "source": [
        "As an example, we will use the training dataset of the `Bacteria data` provided within `RamanSPy`.\n\n"
      ]
    },
    {
      "cell_type": "code",
      "execution_count": null,
      "metadata": {
        "collapsed": false
      },
      "outputs": [],
      "source": [
        "import numpy as np\nfrom matplotlib import pyplot as plt\n\nimport ramanspy\n\ndir_ = r\"../../../../data/bacteria_data\"\nX_train, y_train = ramanspy.datasets.bacteria(\"train\", folder=dir_)"
      ]
    },
    {
      "cell_type": "code",
      "execution_count": null,
      "metadata": {
        "collapsed": false
      },
      "outputs": [],
      "source": [
        "bacteria_lists = [[X_train[i:i+2000, :]] for i in range(0, X_train.shape[0], 2000)]\n\nbacteria_sample = bacteria_lists[:5]\nbacteria_sample_labels = [f\"Species {int(y_train[i*2000])}\" for i in range(0, 5)]"
      ]
    },
    {
      "cell_type": "markdown",
      "metadata": {},
      "source": [
        "Defining plot characteristics\n\n"
      ]
    },
    {
      "cell_type": "code",
      "execution_count": null,
      "metadata": {
        "collapsed": false
      },
      "outputs": [],
      "source": [
        "# defining some bands we are interested in\nbands = [400, 800, 1200, 1600]\n\n# getting the corresponding colors using the default colormap\ncolors = list(plt.cm.get_cmap()(np.linspace(0, 1, len(bands))))"
      ]
    },
    {
      "cell_type": "markdown",
      "metadata": {},
      "source": [
        "Comparing the peak distributions of the 5 species across the bands we are interested in\n\n"
      ]
    },
    {
      "cell_type": "code",
      "execution_count": null,
      "metadata": {
        "collapsed": false
      },
      "outputs": [],
      "source": [
        "for band, color in zip(bands, colors):\n    ramanspy.plot.peak_dist(bacteria_sample, band=band, title=f\"Peak distribution at {band}cm$^{{{-1}}}$\", labels=bacteria_sample_labels, color=color)"
      ]
    },
    {
      "cell_type": "markdown",
      "metadata": {},
      "source": [
        "We can also use colors within individual plots\n\n"
      ]
    },
    {
      "cell_type": "code",
      "execution_count": null,
      "metadata": {
        "collapsed": false
      },
      "outputs": [],
      "source": [
        "colors = list(plt.cm.get_cmap()(np.linspace(0, 1, len(bacteria_sample))))\nramanspy.plot.peak_dist(bacteria_sample, band=bands[0], title=f\"Peak distribution at {bands[0]}cm$^{{{-1}}}$\", labels=bacteria_sample_labels, color=colors)"
      ]
    }
  ],
  "metadata": {
    "kernelspec": {
      "display_name": "Python 3",
      "language": "python",
      "name": "python3"
    },
    "language_info": {
      "codemirror_mode": {
        "name": "ipython",
        "version": 3
      },
      "file_extension": ".py",
      "mimetype": "text/x-python",
      "name": "python",
      "nbconvert_exporter": "python",
      "pygments_lexer": "ipython3",
      "version": "3.11.4"
    }
  },
  "nbformat": 4,
  "nbformat_minor": 0
}