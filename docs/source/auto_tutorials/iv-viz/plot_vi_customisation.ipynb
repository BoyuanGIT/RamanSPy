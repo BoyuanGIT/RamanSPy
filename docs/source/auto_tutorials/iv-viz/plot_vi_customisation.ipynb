{
  "cells": [
    {
      "cell_type": "markdown",
      "metadata": {},
      "source": [
        "\n# Customising plots\n\n`RamanSPy's` plotting methods are built on top of [matplotlib](https://matplotlib.org) and so inherit most of `matplotlib's`\ncustomisability.\n\nBelow, we will highlight some of that customisability.\n"
      ]
    },
    {
      "cell_type": "code",
      "execution_count": null,
      "metadata": {
        "collapsed": false
      },
      "outputs": [],
      "source": [
        "from matplotlib import pyplot as plt\n\nimport ramanspy"
      ]
    },
    {
      "cell_type": "markdown",
      "metadata": {},
      "source": [
        "As an example, we will use the `Volumetric cell data` provided within `RamanSPy`.\n\n"
      ]
    },
    {
      "cell_type": "code",
      "execution_count": null,
      "metadata": {
        "collapsed": false
      },
      "outputs": [],
      "source": [
        "dir_ = r'../../../../data/kallepitis_data'\n\nvolumes = ramanspy.datasets.volumetric_cells(cell_type='THP-1', folder=dir_)"
      ]
    },
    {
      "cell_type": "markdown",
      "metadata": {},
      "source": [
        "We will use the first volume of the dataset, which is a 3D image of a cell.\n\n"
      ]
    },
    {
      "cell_type": "code",
      "execution_count": null,
      "metadata": {
        "collapsed": false
      },
      "outputs": [],
      "source": [
        "cell_volume = volumes[0]\n\n# crop the data\ncropper = ramanspy.preprocessing.misc.Cropper(region=(300, None))\ncell_volume = cropper.apply(cell_volume)\n\n# get the fourth layer of the volume as an example spectral image\ncell_layer = cell_volume.layer(4)\n\n# define example volume and image slices and spectra\ncell_volume_slices = [cell_volume.band(1600), cell_volume.band(2930), cell_volume.band(3300)]\ncell_layer_slices = [cell_layer.band(1600), cell_layer.band(2930), cell_layer.band(3300)]\nspectra = [cell_layer[20, 30], cell_layer[30, 20], cell_layer[10, 20]]"
      ]
    },
    {
      "cell_type": "markdown",
      "metadata": {},
      "source": [
        "## Default behaviour\nBy default, `RamanSPy` inherits `matplotlib's` default [settings](https://matplotlib.org/stable/users/prev_whats_new/dflt_style_changes.html).\n\nThis looks as follows:\n\n"
      ]
    },
    {
      "cell_type": "code",
      "execution_count": null,
      "metadata": {
        "collapsed": false
      },
      "outputs": [],
      "source": [
        "# spectra plots\nramanspy.plot.spectra(spectra)"
      ]
    },
    {
      "cell_type": "code",
      "execution_count": null,
      "metadata": {
        "collapsed": false
      },
      "outputs": [],
      "source": [
        "# image plots\nramanspy.plot.image(cell_layer_slices)"
      ]
    },
    {
      "cell_type": "code",
      "execution_count": null,
      "metadata": {
        "collapsed": false
      },
      "outputs": [],
      "source": [
        "# volume plots\nramanspy.plot.volume(cell_volume_slices)"
      ]
    },
    {
      "cell_type": "markdown",
      "metadata": {},
      "source": [
        "## Parameter control\nUsers can control plot characteristics by changing the parameters of the plotting methods in `RamanSPy`. As these extend\n`matplotlib` methods, we can control them just as we control the underlying `matplotlib` methods.\n\nFor instance:\n\n"
      ]
    },
    {
      "cell_type": "code",
      "execution_count": null,
      "metadata": {
        "collapsed": false
      },
      "outputs": [],
      "source": [
        "# changing the color of spectra plots\nramanspy.plot.spectra(spectra, color='red')"
      ]
    },
    {
      "cell_type": "code",
      "execution_count": null,
      "metadata": {
        "collapsed": false
      },
      "outputs": [],
      "source": [
        "# changing the color and type of spectra plots\nramanspy.plot.spectra(spectra, color=['blue', 'green', 'red'], linestyle='-.')"
      ]
    },
    {
      "cell_type": "code",
      "execution_count": null,
      "metadata": {
        "collapsed": false
      },
      "outputs": [],
      "source": [
        "# changing the color of image plots\nramanspy.plot.image(cell_layer_slices, color=['blue', 'green', 'red'])"
      ]
    },
    {
      "cell_type": "code",
      "execution_count": null,
      "metadata": {
        "collapsed": false
      },
      "outputs": [],
      "source": [
        "# changing the color of volume plots\nramanspy.plot.volume(cell_volume_slices, color=['blue', 'green', 'red'])"
      ]
    },
    {
      "cell_type": "markdown",
      "metadata": {},
      "source": [
        ".. seealso:: For more information about the available parameters you can change and how to do that, check the documentation\n             of the :meth:`ramanspy.plot.spectra`, :meth:`ramanspy.plot.image` and :meth:`ramanspy.plot.volume` methods.\n\n"
      ]
    },
    {
      "cell_type": "markdown",
      "metadata": {},
      "source": [
        "## Settings control\nUsers can also change the behaviour of `RamanSPy's` visualisation tools by directly [changing matplotlib's settings](https://matplotlib.org/stable/api/_as_gen/matplotlib.pyplot.rc.html).\n\nFor instance:\n\n"
      ]
    },
    {
      "cell_type": "markdown",
      "metadata": {},
      "source": [
        "### Changing the color palette\n\n"
      ]
    },
    {
      "cell_type": "code",
      "execution_count": null,
      "metadata": {
        "collapsed": false
      },
      "outputs": [],
      "source": [
        "# changing the colormap to 'jet'\nplt.rc('image', cmap='jet')\n\n\n# spectra plots\nramanspy.plot.spectra(spectra)\n\n\n# image plots\nramanspy.plot.image(cell_layer_slices)\n\n\n# volume plots\nramanspy.plot.volume(cell_volume_slices)"
      ]
    },
    {
      "cell_type": "markdown",
      "metadata": {},
      "source": [
        "### Changing other settings\n\n"
      ]
    },
    {
      "cell_type": "code",
      "execution_count": null,
      "metadata": {
        "collapsed": false
      },
      "outputs": [],
      "source": [
        "# changing the size of the plot\nplt.rc('figure', figsize=(12, 3))\n\nramanspy.plot.spectra(spectra[0])"
      ]
    },
    {
      "cell_type": "code",
      "execution_count": null,
      "metadata": {
        "collapsed": false
      },
      "outputs": [],
      "source": [
        "# changing the width of line plots and making them dashed\nplt.rc('lines', linewidth=4, linestyle='-.')\n\nramanspy.plot.spectra(spectra[0])"
      ]
    },
    {
      "cell_type": "markdown",
      "metadata": {},
      "source": [
        ".. seealso:: For more information about the available settings you can change and how to do that, check [matplotlib's settings](https://matplotlib.org/stable/api/_as_gen/matplotlib.pyplot.rc.html).\n\n"
      ]
    }
  ],
  "metadata": {
    "kernelspec": {
      "display_name": "Python 3",
      "language": "python",
      "name": "python3"
    },
    "language_info": {
      "codemirror_mode": {
        "name": "ipython",
        "version": 3
      },
      "file_extension": ".py",
      "mimetype": "text/x-python",
      "name": "python",
      "nbconvert_exporter": "python",
      "pygments_lexer": "ipython3",
      "version": "3.11.4"
    }
  },
  "nbformat": 4,
  "nbformat_minor": 0
}