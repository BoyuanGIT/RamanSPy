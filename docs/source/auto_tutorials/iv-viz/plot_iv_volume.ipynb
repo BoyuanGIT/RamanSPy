{
  "cells": [
    {
      "cell_type": "markdown",
      "metadata": {},
      "source": [
        "\n# Visualising volumetric data\n\n`RamanSPy` aids the visualisation of volumetric Raman spectroscopic data. This can be done by using the\n:meth:`ramanspy.plot.volume` or :meth:`ramanspy.SpectralVolume.plot` methods.\n"
      ]
    },
    {
      "cell_type": "markdown",
      "metadata": {},
      "source": [
        "In this example, we will showcase that using the `Volumetric cell data` provided in `RamanSPy`.\n\n"
      ]
    },
    {
      "cell_type": "code",
      "execution_count": null,
      "metadata": {
        "collapsed": false
      },
      "outputs": [],
      "source": [
        "import ramanspy\n\ndir_ = r'../../../../data/kallepitis_data'\n\nvolumes = ramanspy.datasets.volumetric_cells(cell_type='THP-1', folder=dir_)"
      ]
    },
    {
      "cell_type": "markdown",
      "metadata": {},
      "source": [
        "We will use the first volume of the dataset, which is a 3D image of a cell.\n\n"
      ]
    },
    {
      "cell_type": "code",
      "execution_count": null,
      "metadata": {
        "collapsed": false
      },
      "outputs": [],
      "source": [
        "cell_volume = volumes[0]"
      ]
    },
    {
      "cell_type": "markdown",
      "metadata": {},
      "source": [
        "Visualising volumetric data follows the same workflow as plotting imaging Raman data (check the `Visualising imaging data` tutorial).\nOnce we have a :class:`ramanspy.SpectralVolume` object, we aan simply invoke its :meth:`ramanspy.SpectralVolume.plot` method\nto plot a spectral slice across a specific band.\n\n"
      ]
    },
    {
      "cell_type": "code",
      "execution_count": null,
      "metadata": {
        "collapsed": false
      },
      "outputs": [],
      "source": [
        "cell_volume.plot(bands=[1008])"
      ]
    },
    {
      "cell_type": "markdown",
      "metadata": {},
      "source": [
        "Again, we can alternatively use the :meth:`ramanspy.plot.volume` method.\n\n"
      ]
    },
    {
      "cell_type": "code",
      "execution_count": null,
      "metadata": {
        "collapsed": false
      },
      "outputs": [],
      "source": [
        "ramanspy.plot.volume(cell_volume.band(1008))"
      ]
    },
    {
      "cell_type": "markdown",
      "metadata": {},
      "source": [
        "Similarly to when plotting imaging data, we can also change various parameters to make the plot more informative and precise.\n\n"
      ]
    },
    {
      "cell_type": "code",
      "execution_count": null,
      "metadata": {
        "collapsed": false
      },
      "outputs": [],
      "source": [
        "ramanspy.plot.volume(cell_volume.band(1008), title=\"Cell imaged with Raman spectroscopy\", cbar_label=f\"Peak intensity at 1008cm$^{{{-1}}}$\")"
      ]
    },
    {
      "cell_type": "markdown",
      "metadata": {},
      "source": [
        "We can also save the plot to a file here, as well.\n\n"
      ]
    },
    {
      "cell_type": "code",
      "execution_count": null,
      "metadata": {
        "collapsed": false
      },
      "outputs": [],
      "source": [
        "ax = ramanspy.plot.volume(cell_volume.band(1008))\nax.figure.savefig(\"v.png\")"
      ]
    },
    {
      "cell_type": "markdown",
      "metadata": {},
      "source": [
        "Check the rest of the documentations of the two functions for more information of the available parameters.\n\n"
      ]
    }
  ],
  "metadata": {
    "kernelspec": {
      "display_name": "Python 3",
      "language": "python",
      "name": "python3"
    },
    "language_info": {
      "codemirror_mode": {
        "name": "ipython",
        "version": 3
      },
      "file_extension": ".py",
      "mimetype": "text/x-python",
      "name": "python",
      "nbconvert_exporter": "python",
      "pygments_lexer": "ipython3",
      "version": "3.11.4"
    }
  },
  "nbformat": 4,
  "nbformat_minor": 0
}