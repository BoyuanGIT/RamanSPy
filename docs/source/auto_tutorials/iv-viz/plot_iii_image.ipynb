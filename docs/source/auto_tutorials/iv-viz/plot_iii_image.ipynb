{
  "cells": [
    {
      "cell_type": "markdown",
      "metadata": {},
      "source": [
        "\n# Visualising imaging data\n\n`RamanSPy` allows the visualisation of Raman imaging data. Visualising imaging data can be achieved by utilising the\n:meth:`ramanspy.plot.image` or :meth:`ramanspy.SpectralImage.plot` method.\n"
      ]
    },
    {
      "cell_type": "markdown",
      "metadata": {},
      "source": [
        "To show how that can be done, in this example, we will use the `Volumetric cell data` provided in `RamanSPy`. Below, we load\nthe volumetric data across a cell and select a particular layer from the volume (here, this is the fourth layer).\n\n"
      ]
    },
    {
      "cell_type": "code",
      "execution_count": null,
      "metadata": {
        "collapsed": false
      },
      "outputs": [],
      "source": [
        "import ramanspy\ndir_ = r'../../../../data/kallepitis_data'\n\nvolumes = ramanspy.datasets.volumetric_cells(cell_type='THP-1', folder=dir_)\n\ncell_layer = volumes[0].layer(4)  # only selecting the fourth layer of the volume"
      ]
    },
    {
      "cell_type": "markdown",
      "metadata": {},
      "source": [
        "Having loaded a :class:`ramanspy.SpectralImage` object, we can directly plot a spectral slice across a specific band of\nthe image using its :meth:`ramanspy.plot.image` method. Here, this is the 1008 cm :sup: `-1` band.\n\n"
      ]
    },
    {
      "cell_type": "code",
      "execution_count": null,
      "metadata": {
        "collapsed": false
      },
      "outputs": [],
      "source": [
        "ramanspy.plot.image(cell_layer.band(1008))"
      ]
    },
    {
      "cell_type": "markdown",
      "metadata": {},
      "source": [
        "We can achieve the same behaviour using the :meth:`ramanspy.SpectralImage.plot` method, too.\n\n"
      ]
    },
    {
      "cell_type": "code",
      "execution_count": null,
      "metadata": {
        "collapsed": false
      },
      "outputs": [],
      "source": [
        "cell_layer.plot(bands=[1008])"
      ]
    },
    {
      "cell_type": "markdown",
      "metadata": {},
      "source": [
        "As usual, `RamanSPy` provides a broad control over the characteristics of the plot. For instance, we can add more informative\ntitle, axis labels, colorbar label, colour schemes, etc.\n\n"
      ]
    },
    {
      "cell_type": "code",
      "execution_count": null,
      "metadata": {
        "collapsed": false
      },
      "outputs": [],
      "source": [
        "ramanspy.plot.image(cell_layer.band(1008), title=\"Cell imaged with Raman spectroscopy\", cbar_label=f\"Peak intensity at 1008cm$^{{{-1}}}$\")"
      ]
    },
    {
      "cell_type": "markdown",
      "metadata": {},
      "source": [
        "Users can also use `RamanSPy` to save the image to a file.\n\n"
      ]
    },
    {
      "cell_type": "code",
      "execution_count": null,
      "metadata": {
        "collapsed": false
      },
      "outputs": [],
      "source": [
        "ax = ramanspy.plot.image(cell_layer.band(1008))\nax.figure.savefig(\"cell_image.png\")"
      ]
    },
    {
      "cell_type": "markdown",
      "metadata": {},
      "source": [
        "It is also possible to plot several images at the same time. When doing that, separate plots will be produced.\n\n"
      ]
    },
    {
      "cell_type": "code",
      "execution_count": null,
      "metadata": {
        "collapsed": false
      },
      "outputs": [],
      "source": [
        "cell_layer.plot(bands=[1600, 1008])\n\n# or ramanspy.plot.image([cell_layer.band(1600), cell_layer.band(1008)])"
      ]
    },
    {
      "cell_type": "markdown",
      "metadata": {},
      "source": [
        "Check the rest of the documentations of the two functions for more information of the available parameters.\n\n"
      ]
    }
  ],
  "metadata": {
    "kernelspec": {
      "display_name": "Python 3",
      "language": "python",
      "name": "python3"
    },
    "language_info": {
      "codemirror_mode": {
        "name": "ipython",
        "version": 3
      },
      "file_extension": ".py",
      "mimetype": "text/x-python",
      "name": "python",
      "nbconvert_exporter": "python",
      "pygments_lexer": "ipython3",
      "version": "3.11.4"
    }
  },
  "nbformat": 4,
  "nbformat_minor": 0
}