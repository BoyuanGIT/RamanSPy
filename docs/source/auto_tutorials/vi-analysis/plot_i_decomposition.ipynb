{
  "cells": [
    {
      "cell_type": "markdown",
      "metadata": {},
      "source": [
        "\n# Built-in decomposition methods\n\nIn this example, we will use `RamanSPy` to perform Principal Component Analysis (PCA) to decompose a Raman spectroscopic\nimage into its constituent components.\n\nTo do that, we will use the volumetric `Volumetric cell data` available in `RamanSPy`. In particular,\nwe will decompose the fourth layer of the provided volumetric dataset.\n"
      ]
    },
    {
      "cell_type": "code",
      "execution_count": null,
      "metadata": {
        "collapsed": false
      },
      "outputs": [],
      "source": [
        "import ramanspy\n\ndir_ = r'../../../../data/kallepitis_data'\n\nvolumes = ramanspy.datasets.volumetric_cells(cell_type='THP-1', folder=dir_)\n\ncell_layer = volumes[0].layer(5)  # only selecting the fourth layer of the volume"
      ]
    },
    {
      "cell_type": "markdown",
      "metadata": {},
      "source": [
        "Let's first plot a spectral slice across the 1008 cm :sup:`-1` band of the image to visualise what has been captured in the image.\n\n"
      ]
    },
    {
      "cell_type": "code",
      "execution_count": null,
      "metadata": {
        "collapsed": false
      },
      "outputs": [],
      "source": [
        "cell_layer.plot(bands=[1008])"
      ]
    },
    {
      "cell_type": "markdown",
      "metadata": {},
      "source": [
        "We can also visualise a specific spectrum within the image.\n\n"
      ]
    },
    {
      "cell_type": "code",
      "execution_count": null,
      "metadata": {
        "collapsed": false
      },
      "outputs": [],
      "source": [
        "cell_layer[30, 30].plot()"
      ]
    },
    {
      "cell_type": "markdown",
      "metadata": {},
      "source": [
        "We may need to first preprocess the spectral image to improve the results of our consecutive analysis.\n\n"
      ]
    },
    {
      "cell_type": "code",
      "execution_count": null,
      "metadata": {
        "collapsed": false
      },
      "outputs": [],
      "source": [
        "preprocessing_pipeline = ramanspy.preprocessing.Pipeline([\n    ramanspy.preprocessing.misc.Cropper(region=(500, 1800)),\n    ramanspy.preprocessing.despike.WhitakerHayes(),\n    ramanspy.preprocessing.denoise.SavGol(window_length=7, polyorder=3),\n    ramanspy.preprocessing.baseline.ASLS(),\n    ramanspy.preprocessing.normalise.MinMax(pixelwise=False),\n])\npreprocessed_cell_layer = preprocessing_pipeline.apply(cell_layer)"
      ]
    },
    {
      "cell_type": "markdown",
      "metadata": {},
      "source": [
        "To check the effect of our preprocessing protocol, we can re-plot the same spectral slice as before\n\n"
      ]
    },
    {
      "cell_type": "code",
      "execution_count": null,
      "metadata": {
        "collapsed": false
      },
      "outputs": [],
      "source": [
        "preprocessed_cell_layer.plot(bands=[1008])"
      ]
    },
    {
      "cell_type": "markdown",
      "metadata": {},
      "source": [
        "as well as the same spectra we visualised before.\n\n"
      ]
    },
    {
      "cell_type": "code",
      "execution_count": null,
      "metadata": {
        "collapsed": false
      },
      "outputs": [],
      "source": [
        "preprocessed_cell_layer[30, 30].plot()"
      ]
    },
    {
      "cell_type": "markdown",
      "metadata": {},
      "source": [
        "We will then perform PCA with 4 components using `RamanSPy`.\n\n"
      ]
    },
    {
      "cell_type": "code",
      "execution_count": null,
      "metadata": {
        "collapsed": false
      },
      "outputs": [],
      "source": [
        "pca = ramanspy.analysis.decompose.PCA(n_components=4)"
      ]
    },
    {
      "cell_type": "code",
      "execution_count": null,
      "metadata": {
        "collapsed": false
      },
      "outputs": [],
      "source": [
        "projections, components = pca.apply(preprocessed_cell_layer)"
      ]
    },
    {
      "cell_type": "markdown",
      "metadata": {},
      "source": [
        "Having derived the PCA components and the corresponding projections, we can use `RamanSPy's` :meth:`ramanspy.plot.spectra`\nand :meth:`ramanspy.plot.image` methods to visualise them.\n\n"
      ]
    },
    {
      "cell_type": "code",
      "execution_count": null,
      "metadata": {
        "collapsed": false
      },
      "outputs": [],
      "source": [
        "ramanspy.plot.spectra(components, preprocessed_cell_layer.spectral_axis, plot_type=\"single stacked\", label=[f\"Component {i + 1}\" for i in range(len(components))])"
      ]
    },
    {
      "cell_type": "code",
      "execution_count": null,
      "metadata": {
        "collapsed": false
      },
      "outputs": [],
      "source": [
        "ramanspy.plot.image(projections, title=[f\"Projection {i + 1}\" for i in range(len(projections))])"
      ]
    }
  ],
  "metadata": {
    "kernelspec": {
      "display_name": "Python 3",
      "language": "python",
      "name": "python3"
    },
    "language_info": {
      "codemirror_mode": {
        "name": "ipython",
        "version": 3
      },
      "file_extension": ".py",
      "mimetype": "text/x-python",
      "name": "python",
      "nbconvert_exporter": "python",
      "pygments_lexer": "ipython3",
      "version": "3.11.4"
    }
  },
  "nbformat": 4,
  "nbformat_minor": 0
}