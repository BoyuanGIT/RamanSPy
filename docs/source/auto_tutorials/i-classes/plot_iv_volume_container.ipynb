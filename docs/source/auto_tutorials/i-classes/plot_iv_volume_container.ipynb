{
  "cells": [
    {
      "cell_type": "markdown",
      "metadata": {},
      "source": [
        "\n# Storing volumetric data\n\nThe management of volumetric Raman spectroscopic data in `RamanSPy` is guided through the :class:`ramanspy.SpectralVolume` class.\n\n.. seealso:: As the :class:`ramanspy.SpectralVolume` class extends the :class:`ramanspy.SpectralContainer` class, most of its\n             functionality is inherited from this class. Hence, users are advised to first check the documentation of\n             the :class:`ramanspy.Spectrum` class and the `Generic data container` tutorial.\n\nBelow, we will inspect some of the main features the :class:`ramanspy.SpectralVolume` class provides on top of those inherited\nthrough the :class:`ramanspy.SpectralContainer` class.\n"
      ]
    },
    {
      "cell_type": "code",
      "execution_count": null,
      "metadata": {
        "collapsed": false
      },
      "outputs": [],
      "source": [
        "import numpy as np\nimport ramanspy"
      ]
    },
    {
      "cell_type": "markdown",
      "metadata": {},
      "source": [
        "We can define a spectrum by providing a relevant 4D intensity data array and the corresponding Raman wavenumber\naxis, just as we initialise :class:`ramanspy.SpectralContainer` instances. As an example, we will create a 50x50x10 spectroscopic\nvolume, each point of which contains a Raman spectrum containing 1500 spectral points.\n\n\n"
      ]
    },
    {
      "cell_type": "code",
      "execution_count": null,
      "metadata": {
        "collapsed": false
      },
      "outputs": [],
      "source": [
        "spectral_data = np.random.rand(50, 50, 10, 1500)\nspectral_axis = np.linspace(100, 3600, 1500)\n\nraman_volume = ramanspy.SpectralVolume(spectral_data, spectral_axis)"
      ]
    },
    {
      "cell_type": "markdown",
      "metadata": {},
      "source": [
        "Then, we can use all features of the :class:`ramanspy.SpectralContainer` class as usual. For instance,\n\n"
      ]
    },
    {
      "cell_type": "code",
      "execution_count": null,
      "metadata": {
        "collapsed": false
      },
      "outputs": [],
      "source": [
        "raman_volume.shape"
      ]
    },
    {
      "cell_type": "markdown",
      "metadata": {},
      "source": [
        "Another way to create :class:`ramanspy.SpectralVolume` instances is by stacking :class:`ramanspy.SpectralImages` instances along\nthe z-axis. When doing that, the spatial dimensions of the images and their spectral axes must match.\n\n"
      ]
    },
    {
      "cell_type": "code",
      "execution_count": null,
      "metadata": {
        "collapsed": false
      },
      "outputs": [],
      "source": [
        "raman_images = [ramanspy.SpectralImage(np.random.rand(50, 50, 1500), spectral_axis) for _ in range(5)]\nraman_volume = ramanspy.SpectralVolume.from_image_stack(raman_images)"
      ]
    },
    {
      "cell_type": "code",
      "execution_count": null,
      "metadata": {
        "collapsed": false
      },
      "outputs": [],
      "source": [
        "raman_volume.shape"
      ]
    },
    {
      "cell_type": "markdown",
      "metadata": {},
      "source": [
        "Once we have initialised a :class:`ramanspy.SpectralVolume` instance, we can visualise spectral slices across it\n\n"
      ]
    },
    {
      "cell_type": "code",
      "execution_count": null,
      "metadata": {
        "collapsed": false
      },
      "outputs": [],
      "source": [
        "raman_volume.plot(bands=[1500, 2500])"
      ]
    },
    {
      "cell_type": "markdown",
      "metadata": {},
      "source": [
        "as well as access individual layers from it and plot them\n\n"
      ]
    },
    {
      "cell_type": "code",
      "execution_count": null,
      "metadata": {
        "collapsed": false
      },
      "outputs": [],
      "source": [
        "raman_image = raman_volume.layer(3)\n\nraman_image.plot(bands=1500)"
      ]
    }
  ],
  "metadata": {
    "kernelspec": {
      "display_name": "Python 3",
      "language": "python",
      "name": "python3"
    },
    "language_info": {
      "codemirror_mode": {
        "name": "ipython",
        "version": 3
      },
      "file_extension": ".py",
      "mimetype": "text/x-python",
      "name": "python",
      "nbconvert_exporter": "python",
      "pygments_lexer": "ipython3",
      "version": "3.11.4"
    }
  },
  "nbformat": 4,
  "nbformat_minor": 0
}