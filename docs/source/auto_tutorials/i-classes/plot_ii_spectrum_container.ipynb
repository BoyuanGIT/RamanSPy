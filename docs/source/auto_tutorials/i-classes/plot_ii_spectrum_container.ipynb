{
  "cells": [
    {
      "cell_type": "markdown",
      "metadata": {},
      "source": [
        "\n# Storing spectra\n\nThe management of single Raman spectra in `RamanSPy` is guided through the :class:`ramanspy.Spectrum` class.\n\n.. seealso:: As the :class:`ramanspy.Spectrum` class extends the :class:`ramanspy.SpectralContainer` class, most of its\n             functionality is inherited from this class. Hence, users are advised to first check the documentation of\n             the :class:`ramanspy.Spectrum` class and the `Generic data container` tutorial.\n\nBelow, we will inspect some of the main features the :class:`ramanspy.Spectrum` class provides on top of those inherited\nthrough the :class:`ramanspy.SpectralContainer` class.\n"
      ]
    },
    {
      "cell_type": "code",
      "execution_count": null,
      "metadata": {
        "collapsed": false
      },
      "outputs": [],
      "source": [
        "import numpy as np\nimport ramanspy"
      ]
    },
    {
      "cell_type": "markdown",
      "metadata": {},
      "source": [
        "We can define a spectrum by providing a relevant 1D intensity data array and the corresponding ramanspy wavenumber\naxis, just as we initialise :class:`raman.SpectralContainer` instances. As an example, we will create a Raman spectrum containing 1500 spectral points.\n\n"
      ]
    },
    {
      "cell_type": "code",
      "execution_count": null,
      "metadata": {
        "collapsed": false
      },
      "outputs": [],
      "source": [
        "spectral_axis = np.linspace(100, 3600, 1500)\nspectral_data = np.sin(spectral_axis/120)\n\nraman_spectrum = ramanspy.Spectrum(spectral_data, spectral_axis)"
      ]
    },
    {
      "cell_type": "markdown",
      "metadata": {},
      "source": [
        "Then, we can use all features of the :class:`ramanspy.SpectralContainer` class as usual. For instance,\n\n"
      ]
    },
    {
      "cell_type": "code",
      "execution_count": null,
      "metadata": {
        "collapsed": false
      },
      "outputs": [],
      "source": [
        "raman_spectrum.shape"
      ]
    },
    {
      "cell_type": "markdown",
      "metadata": {},
      "source": [
        "At the moment, the only functionality the :class:`ramanspy.Spectrum` class provides over :class:`ramanspy.SpectralContainer` is\nthe highly-customisable :meth:`ramanspy.Spectrum.plot`, which can be used to quickly visualise spectral slices across\nRaman spectroscopic images.\n\n"
      ]
    },
    {
      "cell_type": "code",
      "execution_count": null,
      "metadata": {
        "collapsed": false
      },
      "outputs": [],
      "source": [
        "raman_spectrum.plot()"
      ]
    }
  ],
  "metadata": {
    "kernelspec": {
      "display_name": "Python 3",
      "language": "python",
      "name": "python3"
    },
    "language_info": {
      "codemirror_mode": {
        "name": "ipython",
        "version": 3
      },
      "file_extension": ".py",
      "mimetype": "text/x-python",
      "name": "python",
      "nbconvert_exporter": "python",
      "pygments_lexer": "ipython3",
      "version": "3.11.4"
    }
  },
  "nbformat": 4,
  "nbformat_minor": 0
}