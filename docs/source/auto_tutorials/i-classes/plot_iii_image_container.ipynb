{
  "cells": [
    {
      "cell_type": "markdown",
      "metadata": {},
      "source": [
        "\n# Storing imaging data\n\nThe management of imaging Raman spectroscopic data in `RamanSPy` is guided through the :class:`ramanspy.SpectralImage` class.\n\n.. seealso:: As the :class:`ramanspy.SpectralImage` class extends the :class:`ramanspy.SpectralContainer` class, most of its\n             functionality is inherited from this class. Hence, users are advised to first check the documentation of\n             the :class:`ramanspy.SpectralImage` class and the `Generic data container` tutorial.\n\nBelow, we will inspect some of the main features the :class:`ramanspy.SpectralImage` class provides on top of those inherited\nthrough the :class:`ramanspy.SpectralContainer` class.\n"
      ]
    },
    {
      "cell_type": "code",
      "execution_count": null,
      "metadata": {
        "collapsed": false
      },
      "outputs": [],
      "source": [
        "import numpy as np\nimport ramanspy"
      ]
    },
    {
      "cell_type": "markdown",
      "metadata": {},
      "source": [
        "We can define a spectral image by providing the relevant 3D intensity data array and the corresponding Raman wavenumber\naxis, just as we initialise :class:`ramanspy.SpectralContainer` instances. As an example, we will create a 50x50 spectroscopic\nimage, each point of which contains a Raman spectrum containing 1500 spectral points.\n\n"
      ]
    },
    {
      "cell_type": "code",
      "execution_count": null,
      "metadata": {
        "collapsed": false
      },
      "outputs": [],
      "source": [
        "spectral_data = np.random.rand(50, 50, 1500)\nspectral_axis = np.linspace(100, 3600, 1500)\n\nraman_image = ramanspy.SpectralImage(spectral_data, spectral_axis)"
      ]
    },
    {
      "cell_type": "markdown",
      "metadata": {},
      "source": [
        "Then, we can use all features of the :class:`ramanspy.SpectralContainer` class as usual. For instance,\n\n"
      ]
    },
    {
      "cell_type": "code",
      "execution_count": null,
      "metadata": {
        "collapsed": false
      },
      "outputs": [],
      "source": [
        "raman_image.shape"
      ]
    },
    {
      "cell_type": "markdown",
      "metadata": {},
      "source": [
        "At the moment, the only functionality the :class:`ramanspy.SpectralImage` class provides over :class:`ramanspy.SpectralContainer`\nis the highly-customisable :meth:`ramanspy.SpectralImage.plot`, which can be used to quickly visualise spectral slices\nacross Raman spectroscopic images.\n\n"
      ]
    },
    {
      "cell_type": "code",
      "execution_count": null,
      "metadata": {
        "collapsed": false
      },
      "outputs": [],
      "source": [
        "# spectral slices across 1500 cm^-1 and 2500 cm^-1\nraman_image.plot(bands=[1500, 2500])"
      ]
    },
    {
      "cell_type": "markdown",
      "metadata": {},
      "source": [
        "We can also plot individual spectra within the image using indexing and :class:`ramanspy.Spectrum`'s plot method.\n\n"
      ]
    },
    {
      "cell_type": "code",
      "execution_count": null,
      "metadata": {
        "collapsed": false
      },
      "outputs": [],
      "source": [
        "raman_image[25, 25].plot()"
      ]
    }
  ],
  "metadata": {
    "kernelspec": {
      "display_name": "Python 3",
      "language": "python",
      "name": "python3"
    },
    "language_info": {
      "codemirror_mode": {
        "name": "ipython",
        "version": 3
      },
      "file_extension": ".py",
      "mimetype": "text/x-python",
      "name": "python",
      "nbconvert_exporter": "python",
      "pygments_lexer": "ipython3",
      "version": "3.11.4"
    }
  },
  "nbformat": 4,
  "nbformat_minor": 0
}