{
  "cells": [
    {
      "cell_type": "markdown",
      "metadata": {},
      "source": [
        "\n# Built-in protocols\n\nTo further ease the preprocessing workflow, `RamanSPy` provides a selection of established preprocessing pipelines, which\nhave proved useful in the literature. Once again, users can directly access and use these out of the box.\n\nBelow, we will use `RamanSPy` to apply one of the available preprocessing protocols to the volumetric `Volumetric cell data` provided in `RamanSPy`.\n\n.. seealso:: For more information on the available protocols, check `Established protocols`.\n"
      ]
    },
    {
      "cell_type": "code",
      "execution_count": null,
      "metadata": {
        "collapsed": false
      },
      "outputs": [],
      "source": [
        "import ramanspy\n\ndir_ = r'../../../../data/kallepitis_data'\n\nvolumes = ramanspy.datasets.volumetric_cells(cell_type='THP-1', folder=dir_)"
      ]
    },
    {
      "cell_type": "markdown",
      "metadata": {},
      "source": [
        "We will use the first volume\n\n"
      ]
    },
    {
      "cell_type": "code",
      "execution_count": null,
      "metadata": {
        "collapsed": false
      },
      "outputs": [],
      "source": [
        "cell_volume = volumes[0]\n\n# selecting the fourth layer of the volume and visualising it before it gets preprocessed\ncell_layer = cell_volume.layer(4)\ncell_layer.plot(1008, title='Original Raman image')"
      ]
    },
    {
      "cell_type": "markdown",
      "metadata": {},
      "source": [
        "Instead of manually creating a custom preprocessing pipeline, users can simply access and use some of the established\npreprocessing protocols offered within `RamanSPy`. These can be accessed within the `preprocessing.protocols` submodule.\n\n"
      ]
    },
    {
      "cell_type": "code",
      "execution_count": null,
      "metadata": {
        "collapsed": false
      },
      "outputs": [],
      "source": [
        "preprocessing_pipeline = ramanspy.preprocessing.protocols.default_fingerprint()"
      ]
    },
    {
      "cell_type": "markdown",
      "metadata": {},
      "source": [
        "And, again, these protocols can be used directly as any :class:`Pipeline` object through their\n:meth:`ramanspy.preprocessing.Pipeline.apply` method.\n\n"
      ]
    },
    {
      "cell_type": "code",
      "execution_count": null,
      "metadata": {
        "collapsed": false
      },
      "outputs": [],
      "source": [
        "preprocessed_cell_layer = preprocessing_pipeline.apply(cell_layer)"
      ]
    },
    {
      "cell_type": "markdown",
      "metadata": {},
      "source": [
        "Visualising the preprocessed layer.\n\n"
      ]
    },
    {
      "cell_type": "code",
      "execution_count": null,
      "metadata": {
        "collapsed": false
      },
      "outputs": [],
      "source": [
        "preprocessed_cell_layer.plot(1008, title='Preprocessed Raman image')"
      ]
    },
    {
      "cell_type": "markdown",
      "metadata": {},
      "source": [
        "<div class=\"alert alert-info\"><h4>Note</h4><p>The protocols provided in `RamanSPy` work equally well on the other spectral data containers, as well as on collection of those.</p></div>\n\n"
      ]
    }
  ],
  "metadata": {
    "kernelspec": {
      "display_name": "Python 3",
      "language": "python",
      "name": "python3"
    },
    "language_info": {
      "codemirror_mode": {
        "name": "ipython",
        "version": 3
      },
      "file_extension": ".py",
      "mimetype": "text/x-python",
      "name": "python",
      "nbconvert_exporter": "python",
      "pygments_lexer": "ipython3",
      "version": "3.11.4"
    }
  },
  "nbformat": 4,
  "nbformat_minor": 0
}