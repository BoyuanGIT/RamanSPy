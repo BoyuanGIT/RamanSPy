{
  "cells": [
    {
      "cell_type": "markdown",
      "metadata": {},
      "source": [
        "\n# Custom pipelines\n\n`RamanSPy` makes the construction and execution of diverse preprocessing pipelines significantly easier and less\nsoftware intensive. This is possible through the :class:`preprocessing.Pipeline` class.\n\nBelow, we will use `RamanSPy` to define and apply a preprocessing pipeline to the volumetric `Volumetric cell data` provided in `RamanSPy`.\n"
      ]
    },
    {
      "cell_type": "code",
      "execution_count": null,
      "metadata": {
        "collapsed": false
      },
      "outputs": [],
      "source": [
        "import ramanspy\n\ndir_ = r'../../../../data/kallepitis_data'\n\nvolumes = ramanspy.datasets.volumetric_cells(cell_type='THP-1', folder=dir_)"
      ]
    },
    {
      "cell_type": "markdown",
      "metadata": {},
      "source": [
        "We will use the first volume\n\n"
      ]
    },
    {
      "cell_type": "code",
      "execution_count": null,
      "metadata": {
        "collapsed": false
      },
      "outputs": [],
      "source": [
        "cell_volume = volumes[0]"
      ]
    },
    {
      "cell_type": "markdown",
      "metadata": {},
      "source": [
        "selecting the fourth layer of the volume\n\n"
      ]
    },
    {
      "cell_type": "code",
      "execution_count": null,
      "metadata": {
        "collapsed": false
      },
      "outputs": [],
      "source": [
        "cell_layer = cell_volume.layer(4)"
      ]
    },
    {
      "cell_type": "markdown",
      "metadata": {},
      "source": [
        "Let's first plot a spectral slice across the 2930 cm :sup:`-1` band of the image to visualise what has been captured in the image.\n\n"
      ]
    },
    {
      "cell_type": "code",
      "execution_count": null,
      "metadata": {
        "collapsed": false
      },
      "outputs": [],
      "source": [
        "cell_layer.plot(bands=[2930, 1600], title='Original Raman image')"
      ]
    },
    {
      "cell_type": "markdown",
      "metadata": {},
      "source": [
        "We can also visualise a specific spectrum within the image.\n\n"
      ]
    },
    {
      "cell_type": "code",
      "execution_count": null,
      "metadata": {
        "collapsed": false
      },
      "outputs": [],
      "source": [
        "cell_layer[30, 30].plot(title='Original Raman spectra')"
      ]
    },
    {
      "cell_type": "markdown",
      "metadata": {},
      "source": [
        "To create a complete preprocessing pipeline, users need to simply stack the relevant preprocessing algorithms they wish\nto perform (in the execution order they wish to adopt) into a :class:`Pipeline` object. This can include both methods\nprovided by `RamanSPy` and custom methods wrapped within :class:`PreprocessingStep` objects.\n\n"
      ]
    },
    {
      "cell_type": "code",
      "execution_count": null,
      "metadata": {
        "collapsed": false
      },
      "outputs": [],
      "source": [
        "preprocessing_pipeline = ramanspy.preprocessing.Pipeline([\n    ramanspy.preprocessing.misc.Cropper(region=(300, None)),\n    ramanspy.preprocessing.despike.WhitakerHayes(),\n    ramanspy.preprocessing.denoise.SavGol(window_length=7, polyorder=3),\n    ramanspy.preprocessing.baseline.IARPLS(),\n    ramanspy.preprocessing.normalise.MinMax()\n])"
      ]
    },
    {
      "cell_type": "markdown",
      "metadata": {},
      "source": [
        "Then, one can straightforwardly use the pipeline to preprocess different data through its\n:meth:`ramanspy.preprocessing.Pipeline.apply` method.\n\n"
      ]
    },
    {
      "cell_type": "code",
      "execution_count": null,
      "metadata": {
        "collapsed": false
      },
      "outputs": [],
      "source": [
        "preprocessed_cell_layer = preprocessing_pipeline.apply(cell_layer)"
      ]
    },
    {
      "cell_type": "markdown",
      "metadata": {},
      "source": [
        "To check the effect of our preprocessing protocol, we can re-plot the same spectral slice as before\n\n"
      ]
    },
    {
      "cell_type": "code",
      "execution_count": null,
      "metadata": {
        "collapsed": false
      },
      "outputs": [],
      "source": [
        "preprocessed_cell_layer.plot(bands=[2930, 1600], title='Preprocessed Raman spectra')"
      ]
    },
    {
      "cell_type": "markdown",
      "metadata": {},
      "source": [
        "as well as the same spectra we visualised before.\n\n"
      ]
    },
    {
      "cell_type": "code",
      "execution_count": null,
      "metadata": {
        "collapsed": false
      },
      "outputs": [],
      "source": [
        "preprocessed_cell_layer[30, 30].plot(title='Preprocessed Raman spectra')"
      ]
    },
    {
      "cell_type": "markdown",
      "metadata": {},
      "source": [
        "<div class=\"alert alert-info\"><h4>Note</h4><p>Custom preprocessing protocols defined with `RamanSPy` work equally well on the other spectral data containers, as well as on collection of those.</p></div>\n\n"
      ]
    }
  ],
  "metadata": {
    "kernelspec": {
      "display_name": "Python 3",
      "language": "python",
      "name": "python3"
    },
    "language_info": {
      "codemirror_mode": {
        "name": "ipython",
        "version": 3
      },
      "file_extension": ".py",
      "mimetype": "text/x-python",
      "name": "python",
      "nbconvert_exporter": "python",
      "pygments_lexer": "ipython3",
      "version": "3.11.4"
    }
  },
  "nbformat": 4,
  "nbformat_minor": 0
}