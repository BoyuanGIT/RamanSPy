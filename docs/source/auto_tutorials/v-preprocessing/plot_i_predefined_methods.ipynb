{
  "cells": [
    {
      "cell_type": "markdown",
      "metadata": {},
      "source": [
        "\n# Built-in methods\n\n`RamanSPy` provides a collection of various preprocessing methods, which users can directly access and use out of the box.\n\nBelow, we will use `RamanSPy` to define and apply a custom preprocessing method to the volumetric `Volumetric cell data` provided in `RamanSPy`.\n\n.. seealso:: The list of available preprocessing procedures offered by `RamanSPy` can be checked at `Predefined algorithms`.\n"
      ]
    },
    {
      "cell_type": "code",
      "execution_count": null,
      "metadata": {
        "collapsed": false
      },
      "outputs": [],
      "source": [
        "import ramanspy\n\ndir_ = r'../../../../data/kallepitis_data'\n\nvolumes = ramanspy.datasets.volumetric_cells(cell_type='THP-1', folder=dir_)"
      ]
    },
    {
      "cell_type": "markdown",
      "metadata": {},
      "source": [
        "We will use the first volume\n\n"
      ]
    },
    {
      "cell_type": "code",
      "execution_count": null,
      "metadata": {
        "collapsed": false
      },
      "outputs": [],
      "source": [
        "cell_volume = volumes[0]\n\n# selecting a random spectrum for visualisation purposes\nrandom_spectrum = cell_volume[25, 25, 5]\nrandom_spectrum.plot(title='Original Raman spectra')"
      ]
    },
    {
      "cell_type": "markdown",
      "metadata": {},
      "source": [
        "For instance, we can pergorm spectral cropping. This can be done by accessing the corresponding\nmethod in `RamanSPy` and providing the desired parameters as arguments in the initialisation of the preprocessing step as given below.\nTo check what parameters may be needed, check the documentation of the selected method.\n\n"
      ]
    },
    {
      "cell_type": "code",
      "execution_count": null,
      "metadata": {
        "collapsed": false
      },
      "outputs": [],
      "source": [
        "cropper = ramanspy.preprocessing.misc.Cropper(region=(300, None))"
      ]
    },
    {
      "cell_type": "markdown",
      "metadata": {},
      "source": [
        "Then, users can straightforwardly use the selected algorithm to preprocess different data through its\n:meth:`ramanspy.preprocessing.PreprocessingStep.apply` method.\n\n"
      ]
    },
    {
      "cell_type": "code",
      "execution_count": null,
      "metadata": {
        "collapsed": false
      },
      "outputs": [],
      "source": [
        "cropped_random_spectrum = cropper.apply(random_spectrum)\ncropped_random_spectrum.plot(title='Cropped Raman spectra')"
      ]
    },
    {
      "cell_type": "markdown",
      "metadata": {},
      "source": [
        "We can further apply other preprocessing procedure, such as denoising:\n\n"
      ]
    },
    {
      "cell_type": "code",
      "execution_count": null,
      "metadata": {
        "collapsed": false
      },
      "outputs": [],
      "source": [
        "savgol = ramanspy.preprocessing.denoise.SavGol(window_length=7, polyorder=3)\n\ndenoised_random_spectrum = savgol.apply(cropped_random_spectrum)\ndenoised_random_spectrum.plot(title='Smoothened Raman spectra')"
      ]
    },
    {
      "cell_type": "markdown",
      "metadata": {},
      "source": [
        "baseline correction:\n\n"
      ]
    },
    {
      "cell_type": "code",
      "execution_count": null,
      "metadata": {
        "collapsed": false
      },
      "outputs": [],
      "source": [
        "baseline_corrector = ramanspy.preprocessing.baseline.IARPLS()\n\nbaselined_random_spectrum = baseline_corrector.apply(denoised_random_spectrum)\nbaselined_random_spectrum.plot(title='Baseline corrected Raman spectra')"
      ]
    },
    {
      "cell_type": "markdown",
      "metadata": {},
      "source": [
        "normalisation:\n\n"
      ]
    },
    {
      "cell_type": "code",
      "execution_count": null,
      "metadata": {
        "collapsed": false
      },
      "outputs": [],
      "source": [
        "vector_normaliser = ramanspy.preprocessing.normalise.Vector()\n\nnormalised_random_spectrum = vector_normaliser.apply(baselined_random_spectrum)\nnormalised_random_spectrum.plot(title='Normalised Raman spectra', ylabel=\"Normalised intensity (a.u.)\")"
      ]
    },
    {
      "cell_type": "markdown",
      "metadata": {},
      "source": [
        "and others.\n\n"
      ]
    },
    {
      "cell_type": "code",
      "execution_count": null,
      "metadata": {
        "collapsed": false
      },
      "outputs": [],
      "source": [
        "ramanspy.plot.spectra(\n    [random_spectrum, cropped_random_spectrum, denoised_random_spectrum, baselined_random_spectrum, normalised_random_spectrum],\n    plot_type='stacked',\n    label=['Original', 'Cropped', 'Smoothened', 'Baseline corrected', 'Normalised'],\n    title='Preprocessing showcase')"
      ]
    },
    {
      "cell_type": "markdown",
      "metadata": {},
      "source": [
        "<div class=\"alert alert-info\"><h4>Note</h4><p>The methods provided in `RamanSPy` work equally well on the other spectral data containers, as well as on collection of those.</p></div>\n\n"
      ]
    }
  ],
  "metadata": {
    "kernelspec": {
      "display_name": "Python 3",
      "language": "python",
      "name": "python3"
    },
    "language_info": {
      "codemirror_mode": {
        "name": "ipython",
        "version": 3
      },
      "file_extension": ".py",
      "mimetype": "text/x-python",
      "name": "python",
      "nbconvert_exporter": "python",
      "pygments_lexer": "ipython3",
      "version": "3.11.4"
    }
  },
  "nbformat": 4,
  "nbformat_minor": 0
}