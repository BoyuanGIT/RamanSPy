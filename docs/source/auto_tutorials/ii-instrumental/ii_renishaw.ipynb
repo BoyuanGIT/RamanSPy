{
  "cells": [
    {
      "cell_type": "markdown",
      "metadata": {},
      "source": [
        "\n# Loading Renishaw data\n\nUsers can use `RamanSPy` to load .wdf files as exported from [Renishaw's WiRE](https://www.renishaw.com/en/raman-software--9450) software.\nThis can be done through the :meth:`ramanspy.load.renishaw` method by simply providing the name of the file of interest.\n"
      ]
    },
    {
      "cell_type": "code",
      "execution_count": null,
      "metadata": {
        "collapsed": false
      },
      "outputs": [],
      "source": [
        "import ramanspy"
      ]
    },
    {
      "cell_type": "markdown",
      "metadata": {},
      "source": [
        "The method itself will parse the data to the correct spectral data container, which you can then use as usual.\n\n"
      ]
    },
    {
      "cell_type": "code",
      "execution_count": null,
      "metadata": {
        "collapsed": false
      },
      "outputs": [],
      "source": [
        "raman_data = ramanspy.load.renishaw(\"path/to/file/renishaw_data.wdf\")"
      ]
    }
  ],
  "metadata": {
    "kernelspec": {
      "display_name": "Python 3",
      "language": "python",
      "name": "python3"
    },
    "language_info": {
      "codemirror_mode": {
        "name": "ipython",
        "version": 3
      },
      "file_extension": ".py",
      "mimetype": "text/x-python",
      "name": "python",
      "nbconvert_exporter": "python",
      "pygments_lexer": "ipython3",
      "version": "3.11.4"
    }
  },
  "nbformat": 4,
  "nbformat_minor": 0
}