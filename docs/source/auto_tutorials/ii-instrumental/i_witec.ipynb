{
  "cells": [
    {
      "cell_type": "markdown",
      "metadata": {},
      "source": [
        "\n# Loading WITec data\n\nUsers can use `RamanSPy` to load MATLAB files as exported from [WITec's Suite FIVE](https://raman.oxinst.com/products/software/witec-software-suite) software.\n\nThis can be done through the :meth:`ramanspy.load.witec` method by simply providing the name of the file of interest.\n"
      ]
    },
    {
      "cell_type": "code",
      "execution_count": null,
      "metadata": {
        "collapsed": false
      },
      "outputs": [],
      "source": [
        "import ramanspy"
      ]
    },
    {
      "cell_type": "markdown",
      "metadata": {},
      "source": [
        "The method itself will parse the data to the correct spectral data container, which you can then use as usual.\n\n"
      ]
    },
    {
      "cell_type": "markdown",
      "metadata": {},
      "source": [
        "Loading a single spectrum\n\n"
      ]
    },
    {
      "cell_type": "code",
      "execution_count": null,
      "metadata": {
        "collapsed": false
      },
      "outputs": [],
      "source": [
        "raman_spectrum = ramanspy.load.witec(\"path/to/file/witec_spectrum.mat\")"
      ]
    },
    {
      "cell_type": "markdown",
      "metadata": {},
      "source": [
        "Loading Raman image data\n\n"
      ]
    },
    {
      "cell_type": "code",
      "execution_count": null,
      "metadata": {
        "collapsed": false
      },
      "outputs": [],
      "source": [
        "raman_image = ramanspy.load.witec(\"path/to/file/witec_image.mat\")"
      ]
    },
    {
      "cell_type": "markdown",
      "metadata": {},
      "source": [
        "Loading volumetric Raman data from a list of Raman image files by stacking them as layers along the z-axis\n\n"
      ]
    },
    {
      "cell_type": "code",
      "execution_count": null,
      "metadata": {
        "collapsed": false
      },
      "outputs": [],
      "source": [
        "image_layer_files = [\"path/to/file/witec_image_1.mat\", ..., \"path/to/file/witec_image_n.mat\"]\nraman_image_stack = [ramanspy.load.witec(image_layer_file) for image_layer_file in image_layer_files]\nraman_volume = ramanspy.SpectralVolume.from_image_stack(raman_image_stack)"
      ]
    }
  ],
  "metadata": {
    "kernelspec": {
      "display_name": "Python 3",
      "language": "python",
      "name": "python3"
    },
    "language_info": {
      "codemirror_mode": {
        "name": "ipython",
        "version": 3
      },
      "file_extension": ".py",
      "mimetype": "text/x-python",
      "name": "python",
      "nbconvert_exporter": "python",
      "pygments_lexer": "ipython3",
      "version": "3.11.4"
    }
  },
  "nbformat": 4,
  "nbformat_minor": 0
}